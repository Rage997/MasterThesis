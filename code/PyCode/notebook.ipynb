{
 "cells": [
  {
   "cell_type": "code",
   "execution_count": 22,
   "id": "c460e2bf",
   "metadata": {},
   "outputs": [],
   "source": [
    "import pandas as pd\n",
    "import numpy as np\n",
    "from visuals import *"
   ]
  },
  {
   "cell_type": "code",
   "execution_count": 23,
   "id": "7561e900",
   "metadata": {},
   "outputs": [
    {
     "name": "stdout",
     "output_type": "stream",
     "text": [
      "dict_keys(['ReadMe', 'GlobalAlienSpeciesFirstRecordDa', 'References'])\n",
      "<class 'pandas.core.frame.DataFrame'>\n",
      "RangeIndex: 61751 entries, 0 to 61750\n",
      "Data columns (total 15 columns):\n",
      " #   Column            Non-Null Count  Dtype \n",
      "---  ------            --------------  ----- \n",
      " 0   TaxonName         61751 non-null  object\n",
      " 1   scientificName    61751 non-null  object\n",
      " 2   Family            57925 non-null  object\n",
      " 3   Order             60709 non-null  object\n",
      " 4   Class             60664 non-null  object\n",
      " 5   Phylum            60793 non-null  object\n",
      " 6   Taxonomy          57045 non-null  object\n",
      " 7   OrigName          61751 non-null  object\n",
      " 8   LifeForm          61571 non-null  object\n",
      " 9   Region            61751 non-null  object\n",
      " 10  Island            17552 non-null  object\n",
      " 11  PresentStatus     33473 non-null  object\n",
      " 12  FirstRecord       61751 non-null  int64 \n",
      " 13  FirstRecord_orig  61751 non-null  object\n",
      " 14  Source            61751 non-null  object\n",
      "dtypes: int64(1), object(14)\n",
      "memory usage: 7.1+ MB\n"
     ]
    }
   ],
   "source": [
    "# SEE: https://zenodo.org/record/4632335#.YkGzOShBz4c\n",
    "filename = '../data/GlobalAlienSpeciesFirstRecordDatabase_v2.xlsx'\n",
    "\n",
    "df_orig = pd.read_excel(filename, sheet_name=None)\n",
    "# There are 3 sheets of the excel file\n",
    "print(df_orig.keys())\n",
    "df_orig = df_orig['GlobalAlienSpeciesFirstRecordDa']\n",
    "df_orig.info(show_counts=True)\n",
    "\n"
   ]
  },
  {
   "cell_type": "markdown",
   "id": "97ff99da",
   "metadata": {},
   "source": []
  },
  {
   "cell_type": "code",
   "execution_count": 24,
   "id": "1abc5230",
   "metadata": {},
   "outputs": [
    {
     "name": "stdout",
     "output_type": "stream",
     "text": [
      "The dataset range from 1800 to 2020\n"
     ]
    }
   ],
   "source": [
    "df = df_orig\n",
    "df = df.dropna()\n",
    "\n",
    "# Get the correct one\n",
    "# df = df[(df['LifeForm'] != 'Insects') & (df['LifeForm'] != 'Vascular plants') & (df['LifeForm'] != 'Fishes') \\\n",
    "#         & (df['LifeForm'] != 'Birds') & (df['LifeForm'] != 'Algae') \\\n",
    "#         & (df['LifeForm'] != 'Invertebrates (excl. Arthropods, Molluscs)') \n",
    "#         & (df['LifeForm'] != 'Molluscs') & (df['LifeForm'] != 'Crustaceans') \\\n",
    "#         & (df['LifeForm'] != 'Fungi') & (df['LifeForm'] != 'Reptiles') \\\n",
    "#         # & (df['LifeForm'] != 'Arthropods p.p. (Myriapods, Diplopods etc.)') & (df['LifeForm'] != 'Mammals') \\\n",
    "#         # & (df['LifeForm'] != 'Amphibians') & (df['LifeForm'] != 'Bryophytes') \\\n",
    "#         # & (df['LifeForm'] != 'Amphibians') & (df['LifeForm'] != 'nan') \\\n",
    "#         & (df['LifeForm'] != 'Bryozoa') & (df['LifeForm'] != 'Spiders') \\\n",
    "        # ]\n",
    "# df = df[(df['FirstRecord'] > 1950) & (df['FirstRecord'] < 2010)]\n",
    "\n",
    "df = df[df['FirstRecord'] > 1800]\n",
    "last_year = np.max(df['FirstRecord'])\n",
    "print(f'The dataset range from 1800 to {last_year}')"
   ]
  },
  {
   "cell_type": "code",
   "execution_count": 25,
   "id": "d2d24318",
   "metadata": {},
   "outputs": [
    {
     "name": "stdout",
     "output_type": "stream",
     "text": [
      "<class 'pandas.core.frame.DataFrame'>\n",
      "Int64Index: 59256 entries, 0 to 61750\n",
      "Data columns (total 15 columns):\n",
      " #   Column            Non-Null Count  Dtype \n",
      "---  ------            --------------  ----- \n",
      " 0   TaxonName         59256 non-null  object\n",
      " 1   scientificName    59256 non-null  object\n",
      " 2   Family            55551 non-null  object\n",
      " 3   Order             58228 non-null  object\n",
      " 4   Class             58181 non-null  object\n",
      " 5   Phylum            58310 non-null  object\n",
      " 6   Taxonomy          54696 non-null  object\n",
      " 7   OrigName          59256 non-null  object\n",
      " 8   LifeForm          59077 non-null  object\n",
      " 9   Region            59256 non-null  object\n",
      " 10  Island            16646 non-null  object\n",
      " 11  PresentStatus     31458 non-null  object\n",
      " 12  FirstRecord       59256 non-null  int64 \n",
      " 13  FirstRecord_orig  59256 non-null  object\n",
      " 14  Source            59256 non-null  object\n",
      "dtypes: int64(1), object(14)\n",
      "memory usage: 7.2+ MB\n"
     ]
    },
    {
     "data": {
      "text/html": [
       "<div>\n",
       "<style scoped>\n",
       "    .dataframe tbody tr th:only-of-type {\n",
       "        vertical-align: middle;\n",
       "    }\n",
       "\n",
       "    .dataframe tbody tr th {\n",
       "        vertical-align: top;\n",
       "    }\n",
       "\n",
       "    .dataframe thead th {\n",
       "        text-align: right;\n",
       "    }\n",
       "</style>\n",
       "<table border=\"1\" class=\"dataframe\">\n",
       "  <thead>\n",
       "    <tr style=\"text-align: right;\">\n",
       "      <th></th>\n",
       "      <th>TaxonName</th>\n",
       "      <th>scientificName</th>\n",
       "      <th>Family</th>\n",
       "      <th>Order</th>\n",
       "      <th>Class</th>\n",
       "      <th>Phylum</th>\n",
       "      <th>Taxonomy</th>\n",
       "      <th>OrigName</th>\n",
       "      <th>LifeForm</th>\n",
       "      <th>Region</th>\n",
       "      <th>Island</th>\n",
       "      <th>PresentStatus</th>\n",
       "      <th>FirstRecord</th>\n",
       "      <th>FirstRecord_orig</th>\n",
       "      <th>Source</th>\n",
       "    </tr>\n",
       "  </thead>\n",
       "  <tbody>\n",
       "    <tr>\n",
       "      <th>0</th>\n",
       "      <td>Acanthophora muscoides</td>\n",
       "      <td>Acanthophora muscoides (L.) Bory</td>\n",
       "      <td>Rhodomelaceae</td>\n",
       "      <td>Ceramiales</td>\n",
       "      <td>Florideophyceae</td>\n",
       "      <td>Rhodophyta</td>\n",
       "      <td>GBIF</td>\n",
       "      <td>Acanthophora muscoides Linnaeus, 1753</td>\n",
       "      <td>Algae</td>\n",
       "      <td>Turkey</td>\n",
       "      <td>NaN</td>\n",
       "      <td>NaN</td>\n",
       "      <td>1986</td>\n",
       "      <td>1986</td>\n",
       "      <td>Cinar et al. (2005)</td>\n",
       "    </tr>\n",
       "    <tr>\n",
       "      <th>1</th>\n",
       "      <td>Acanthophora nayadiformis</td>\n",
       "      <td>Acanthophora nayadiformis (Delile) Papenf., 1968</td>\n",
       "      <td>Rhodomelaceae</td>\n",
       "      <td>Ceramiales</td>\n",
       "      <td>Florideophyceae</td>\n",
       "      <td>Rhodophyta</td>\n",
       "      <td>GBIF</td>\n",
       "      <td>Acanthophora nayadiformis</td>\n",
       "      <td>Algae</td>\n",
       "      <td>Cyprus</td>\n",
       "      <td>yes</td>\n",
       "      <td>alien</td>\n",
       "      <td>1997</td>\n",
       "      <td>1997</td>\n",
       "      <td>DAISIE</td>\n",
       "    </tr>\n",
       "    <tr>\n",
       "      <th>2</th>\n",
       "      <td>Acanthophora nayadiformis</td>\n",
       "      <td>Acanthophora nayadiformis (Delile) Papenf., 1968</td>\n",
       "      <td>Rhodomelaceae</td>\n",
       "      <td>Ceramiales</td>\n",
       "      <td>Florideophyceae</td>\n",
       "      <td>Rhodophyta</td>\n",
       "      <td>GBIF</td>\n",
       "      <td>Acanthophora nayadiformis</td>\n",
       "      <td>Algae</td>\n",
       "      <td>Greece</td>\n",
       "      <td>NaN</td>\n",
       "      <td>NaN</td>\n",
       "      <td>1861</td>\n",
       "      <td>1861</td>\n",
       "      <td>AquaNIS (2020)</td>\n",
       "    </tr>\n",
       "    <tr>\n",
       "      <th>3</th>\n",
       "      <td>Acanthophora nayadiformis</td>\n",
       "      <td>Acanthophora nayadiformis (Delile) Papenf., 1968</td>\n",
       "      <td>Rhodomelaceae</td>\n",
       "      <td>Ceramiales</td>\n",
       "      <td>Florideophyceae</td>\n",
       "      <td>Rhodophyta</td>\n",
       "      <td>GBIF</td>\n",
       "      <td>Acanthophora nayadiformis (Delile) Papenfuss, ...</td>\n",
       "      <td>Algae</td>\n",
       "      <td>Turkey</td>\n",
       "      <td>NaN</td>\n",
       "      <td>NaN</td>\n",
       "      <td>1970</td>\n",
       "      <td>1970</td>\n",
       "      <td>Cinar et al. (2005)</td>\n",
       "    </tr>\n",
       "    <tr>\n",
       "      <th>4</th>\n",
       "      <td>Acanthophora spicifera</td>\n",
       "      <td>Acanthophora spicifera (M.Vahl) Børgesen</td>\n",
       "      <td>Rhodomelaceae</td>\n",
       "      <td>Ceramiales</td>\n",
       "      <td>Florideophyceae</td>\n",
       "      <td>Rhodophyta</td>\n",
       "      <td>GBIF</td>\n",
       "      <td>Acanthophora spicifera</td>\n",
       "      <td>Algae</td>\n",
       "      <td>Hawaiian Islands</td>\n",
       "      <td>yes</td>\n",
       "      <td>NaN</td>\n",
       "      <td>1952</td>\n",
       "      <td>1952</td>\n",
       "      <td>Carlton &amp; Eldrege (2009)</td>\n",
       "    </tr>\n",
       "  </tbody>\n",
       "</table>\n",
       "</div>"
      ],
      "text/plain": [
       "                   TaxonName  \\\n",
       "0     Acanthophora muscoides   \n",
       "1  Acanthophora nayadiformis   \n",
       "2  Acanthophora nayadiformis   \n",
       "3  Acanthophora nayadiformis   \n",
       "4     Acanthophora spicifera   \n",
       "\n",
       "                                     scientificName         Family  \\\n",
       "0                  Acanthophora muscoides (L.) Bory  Rhodomelaceae   \n",
       "1  Acanthophora nayadiformis (Delile) Papenf., 1968  Rhodomelaceae   \n",
       "2  Acanthophora nayadiformis (Delile) Papenf., 1968  Rhodomelaceae   \n",
       "3  Acanthophora nayadiformis (Delile) Papenf., 1968  Rhodomelaceae   \n",
       "4          Acanthophora spicifera (M.Vahl) Børgesen  Rhodomelaceae   \n",
       "\n",
       "        Order            Class      Phylum Taxonomy  \\\n",
       "0  Ceramiales  Florideophyceae  Rhodophyta     GBIF   \n",
       "1  Ceramiales  Florideophyceae  Rhodophyta     GBIF   \n",
       "2  Ceramiales  Florideophyceae  Rhodophyta     GBIF   \n",
       "3  Ceramiales  Florideophyceae  Rhodophyta     GBIF   \n",
       "4  Ceramiales  Florideophyceae  Rhodophyta     GBIF   \n",
       "\n",
       "                                            OrigName LifeForm  \\\n",
       "0              Acanthophora muscoides Linnaeus, 1753    Algae   \n",
       "1                          Acanthophora nayadiformis    Algae   \n",
       "2                          Acanthophora nayadiformis    Algae   \n",
       "3  Acanthophora nayadiformis (Delile) Papenfuss, ...    Algae   \n",
       "4                             Acanthophora spicifera    Algae   \n",
       "\n",
       "             Region Island PresentStatus  FirstRecord FirstRecord_orig  \\\n",
       "0            Turkey    NaN           NaN         1986             1986   \n",
       "1            Cyprus    yes         alien         1997             1997   \n",
       "2            Greece    NaN           NaN         1861             1861   \n",
       "3            Turkey    NaN           NaN         1970             1970   \n",
       "4  Hawaiian Islands    yes           NaN         1952             1952   \n",
       "\n",
       "                     Source  \n",
       "0       Cinar et al. (2005)  \n",
       "1                    DAISIE  \n",
       "2            AquaNIS (2020)  \n",
       "3       Cinar et al. (2005)  \n",
       "4  Carlton & Eldrege (2009)  "
      ]
     },
     "execution_count": 25,
     "metadata": {},
     "output_type": "execute_result"
    }
   ],
   "source": [
    "df.info(show_counts=True)\n",
    "df.head()"
   ]
  },
  {
   "cell_type": "code",
   "execution_count": 26,
   "id": "ee68da7d",
   "metadata": {},
   "outputs": [
    {
     "name": "stdout",
     "output_type": "stream",
     "text": [
      "There are 19 families and 276 regions\n",
      "There are 23039 species.\n",
      "Algae[546], Amphibians[101], Arthropods p.p. (Myriapods, Diplopods etc.)[166], Bacteria and protozoans[33], Birds[954], Bryophytes[108], Bryozoa[113], Crustaceans[679], Fishes[811], Fungi[464], Insects[5627], Invertebrates (excl. Arthropods, Molluscs)[774], Mammals[254], Molluscs[650], Reptiles[206], Spiders[42], Vascular plants[11362], Viruses[18], nan[0], "
     ]
    },
    {
     "ename": "TypeError",
     "evalue": "'float' object is not subscriptable",
     "output_type": "error",
     "traceback": [
      "\u001b[0;31m---------------------------------------------------------------------------\u001b[0m",
      "\u001b[0;31mTypeError\u001b[0m                                 Traceback (most recent call last)",
      "\u001b[1;32m/Users/rage/Desktop/MasterThesis/code/PyCode/notebook.ipynb Cell 6'\u001b[0m in \u001b[0;36m<cell line: 20>\u001b[0;34m()\u001b[0m\n\u001b[1;32m     <a href='vscode-notebook-cell:/Users/rage/Desktop/MasterThesis/code/PyCode/notebook.ipynb#ch0000005?line=16'>17</a>\u001b[0m \u001b[39mimport\u001b[39;00m \u001b[39mmatplotlib\u001b[39;00m\u001b[39m.\u001b[39;00m\u001b[39mpyplot\u001b[39;00m \u001b[39mas\u001b[39;00m \u001b[39mplt\u001b[39;00m\n\u001b[1;32m     <a href='vscode-notebook-cell:/Users/rage/Desktop/MasterThesis/code/PyCode/notebook.ipynb#ch0000005?line=18'>19</a>\u001b[0m plt\u001b[39m.\u001b[39mbar(\u001b[39mrange\u001b[39m(\u001b[39mlen\u001b[39m(count_animals)), count_animals, align\u001b[39m=\u001b[39m\u001b[39m'\u001b[39m\u001b[39mcenter\u001b[39m\u001b[39m'\u001b[39m)\n\u001b[0;32m---> <a href='vscode-notebook-cell:/Users/rage/Desktop/MasterThesis/code/PyCode/notebook.ipynb#ch0000005?line=19'>20</a>\u001b[0m firstletter_family \u001b[39m=\u001b[39m [f[:\u001b[39m3\u001b[39m]\u001b[39m+\u001b[39m\u001b[39m'\u001b[39m\u001b[39m.\u001b[39m\u001b[39m'\u001b[39m \u001b[39mfor\u001b[39;00m f \u001b[39min\u001b[39;00m family]\n\u001b[1;32m     <a href='vscode-notebook-cell:/Users/rage/Desktop/MasterThesis/code/PyCode/notebook.ipynb#ch0000005?line=20'>21</a>\u001b[0m plt\u001b[39m.\u001b[39mxticks(\u001b[39mrange\u001b[39m(\u001b[39mlen\u001b[39m(family)), firstletter_family, size\u001b[39m=\u001b[39m\u001b[39m'\u001b[39m\u001b[39msmall\u001b[39m\u001b[39m'\u001b[39m)\n\u001b[1;32m     <a href='vscode-notebook-cell:/Users/rage/Desktop/MasterThesis/code/PyCode/notebook.ipynb#ch0000005?line=21'>22</a>\u001b[0m plt\u001b[39m.\u001b[39msavefig(\u001b[39m'\u001b[39m\u001b[39m../../latex/figures/histogram_taxfam.png\u001b[39m\u001b[39m'\u001b[39m, dpi\u001b[39m=\u001b[39m\u001b[39m1200\u001b[39m)\n",
      "\u001b[1;32m/Users/rage/Desktop/MasterThesis/code/PyCode/notebook.ipynb Cell 6'\u001b[0m in \u001b[0;36m<listcomp>\u001b[0;34m(.0)\u001b[0m\n\u001b[1;32m     <a href='vscode-notebook-cell:/Users/rage/Desktop/MasterThesis/code/PyCode/notebook.ipynb#ch0000005?line=16'>17</a>\u001b[0m \u001b[39mimport\u001b[39;00m \u001b[39mmatplotlib\u001b[39;00m\u001b[39m.\u001b[39;00m\u001b[39mpyplot\u001b[39;00m \u001b[39mas\u001b[39;00m \u001b[39mplt\u001b[39;00m\n\u001b[1;32m     <a href='vscode-notebook-cell:/Users/rage/Desktop/MasterThesis/code/PyCode/notebook.ipynb#ch0000005?line=18'>19</a>\u001b[0m plt\u001b[39m.\u001b[39mbar(\u001b[39mrange\u001b[39m(\u001b[39mlen\u001b[39m(count_animals)), count_animals, align\u001b[39m=\u001b[39m\u001b[39m'\u001b[39m\u001b[39mcenter\u001b[39m\u001b[39m'\u001b[39m)\n\u001b[0;32m---> <a href='vscode-notebook-cell:/Users/rage/Desktop/MasterThesis/code/PyCode/notebook.ipynb#ch0000005?line=19'>20</a>\u001b[0m firstletter_family \u001b[39m=\u001b[39m [f[:\u001b[39m3\u001b[39;49m]\u001b[39m+\u001b[39m\u001b[39m'\u001b[39m\u001b[39m.\u001b[39m\u001b[39m'\u001b[39m \u001b[39mfor\u001b[39;00m f \u001b[39min\u001b[39;00m family]\n\u001b[1;32m     <a href='vscode-notebook-cell:/Users/rage/Desktop/MasterThesis/code/PyCode/notebook.ipynb#ch0000005?line=20'>21</a>\u001b[0m plt\u001b[39m.\u001b[39mxticks(\u001b[39mrange\u001b[39m(\u001b[39mlen\u001b[39m(family)), firstletter_family, size\u001b[39m=\u001b[39m\u001b[39m'\u001b[39m\u001b[39msmall\u001b[39m\u001b[39m'\u001b[39m)\n\u001b[1;32m     <a href='vscode-notebook-cell:/Users/rage/Desktop/MasterThesis/code/PyCode/notebook.ipynb#ch0000005?line=21'>22</a>\u001b[0m plt\u001b[39m.\u001b[39msavefig(\u001b[39m'\u001b[39m\u001b[39m../../latex/figures/histogram_taxfam.png\u001b[39m\u001b[39m'\u001b[39m, dpi\u001b[39m=\u001b[39m\u001b[39m1200\u001b[39m)\n",
      "\u001b[0;31mTypeError\u001b[0m: 'float' object is not subscriptable"
     ]
    },
    {
     "name": "stderr",
     "output_type": "stream",
     "text": [
      "findfont: Font family ['Franklin Gothic Book'] not found. Falling back to DejaVu Sans.\n"
     ]
    },
    {
     "data": {
      "image/png": "[encoded data removed]",
      "text/plain": [
       "<Figure size 432x288 with 1 Axes>"
      ]
     },
     "metadata": {
      "needs_background": "light"
     },
     "output_type": "display_data"
    }
   ],
   "source": [
    "family = df['LifeForm'].unique()\n",
    "region = df['Region'].unique()\n",
    "\n",
    "print(f'There are {len(family)} families and {len(region)} regions')\n",
    "species = df['TaxonName'].unique()\n",
    "\n",
    "count_animals = []\n",
    "print(f'There are {len(species)} species.')\n",
    "for p in family:\n",
    "    df_s = df[df['LifeForm'] == p]\n",
    "    animals = df_s['TaxonName'].unique()\n",
    "    animals = len(animals)\n",
    "    count_animals.append(animals)\n",
    "    print(f'{p}[{animals}]', end=', ')\n",
    "\n",
    "# Plot histogram of families and how many entries\n",
    "import matplotlib.pyplot as plt\n",
    "\n",
    "plt.bar(range(len(count_animals)), count_animals, align='center')\n",
    "firstletter_family = [f[:3]+'.' for f in family]\n",
    "plt.xticks(range(len(family)), firstletter_family, size='small')\n",
    "plt.savefig('../../latex/figures/histogram_taxfam.png', dpi=1200)\n",
    "plt.show()"
   ]
  },
  {
   "cell_type": "code",
   "execution_count": 20,
   "id": "aa6ca04b",
   "metadata": {},
   "outputs": [],
   "source": [
    "# Filter out all the irrelevant species and regions\n",
    "# TODO This is really really really slow. A better way to do it?\n",
    "# Filter out irrelevant data\n",
    "\n",
    "spec_iter = np.zeros(len(species), dtype=int)\n",
    "reg_iter = np.zeros(len(region), dtype=int)\n",
    "\n",
    "for idx, s in enumerate(species):\n",
    "    df_s = df[df['TaxonName'] == s]\n",
    "    # n_iter = len(df_s)\n",
    "    spec_iter[idx] = len(df_s)\n",
    "    # print(f'The species {s} has {spec_iter[idx]} iteractions')\n",
    "\n",
    "\n",
    "for idx, s in enumerate(region):\n",
    "    df_s = df[df['Region'] == s]\n",
    "    # n_iter = len(df_s)\n",
    "    reg_iter[idx] = len(df_s)\n",
    "    # print(f'The species {s} has {spec_iter[idx]} iteractions')"
   ]
  },
  {
   "cell_type": "code",
   "execution_count": 8,
   "id": "e6badf96",
   "metadata": {},
   "outputs": [
    {
     "name": "stdout",
     "output_type": "stream",
     "text": [
      "Removed 17574 species\n",
      "Removed 63 region\n"
     ]
    }
   ],
   "source": [
    "# TODO This is really really really slow. A better way to do it?\n",
    "# select the species that have less than 3 iteractions\n",
    "remove_s_idx = np.where(spec_iter < 3)\n",
    "remove_r_idx = np.where(reg_iter < 10)\n",
    "\n",
    "# Filter the dataset: remove all rows belonging to species with less than 3 iteractions\n",
    "for s in species[remove_s_idx]:\n",
    "    # print(s)  \n",
    "    df = df.drop(df[df['TaxonName'] == s].index)\n",
    "\n",
    "# Filter the dataset: remove all rows belonging to region with less than 10 invasions\n",
    "for s in region[remove_r_idx]:\n",
    "    # print(s)  \n",
    "    df = df.drop(df[df['Region'] == s].index)\n",
    "\n",
    "species_removed = len(species) - len(df['TaxonName'].unique())\n",
    "print(f'Removed {species_removed} species')\n",
    "region_removed = len(region) - len(df['Region'].unique())\n",
    "print(f'Removed {region_removed} region')\n",
    "\n",
    "# Update region, species\n",
    "region = df['Region'].unique()\n",
    "species = df['TaxonName'].unique()\n"
   ]
  },
  {
   "cell_type": "code",
   "execution_count": 12,
   "id": "8c638c99",
   "metadata": {},
   "outputs": [
    {
     "name": "stdout",
     "output_type": "stream",
     "text": [
      "1801 2020 219\n"
     ]
    },
    {
     "data": {
      "text/plain": [
       "(22, 19, 276)"
      ]
     },
     "execution_count": 12,
     "metadata": {},
     "output_type": "execute_result"
    }
   ],
   "source": [
    "# Buld matrix by grouping the dataset into taxonomic families rather than species to reduce the complexity\n",
    "n_f = len(family)\n",
    "n_r = len(region)\n",
    "\n",
    "t_min = df['FirstRecord'].min()\n",
    "t_max = df['FirstRecord'].max()\n",
    "print(t_min, t_max, t_max-t_min)\n",
    "time_res = 10\n",
    "time = np.arange(t_min, t_max, time_res)\n",
    "\n",
    "p = n_f + n_r\n",
    "M = np.zeros((len(time), n_f, n_r))\n",
    "# M = np.zeros((len(time), p, p)) # if full\n",
    "\n",
    "for i, t in enumerate(time):\n",
    "    df_now = df[(df['FirstRecord'] >= t) & (df['FirstRecord'] < t+(time_res-1))]\n",
    "    for index, row in df_now.iterrows():\n",
    "        f = row['LifeForm']\n",
    "        r = row['Region']\n",
    "        # print(f'Family {f} invaded region {r} at time {t}')\n",
    "\n",
    "        f_idx = np.where(family == f)\n",
    "        r_idx = np.where(region == r)\n",
    "        M[i, f_idx, r_idx] = 1\n",
    "M.shape"
   ]
  },
  {
   "cell_type": "code",
   "execution_count": 13,
   "id": "322ebbd3",
   "metadata": {},
   "outputs": [
    {
     "name": "stdout",
     "output_type": "stream",
     "text": [
      "1801 2020 219\n"
     ]
    },
    {
     "data": {
      "text/plain": [
       "(22, 23039, 276)"
      ]
     },
     "execution_count": 13,
     "metadata": {},
     "output_type": "execute_result"
    }
   ],
   "source": [
    "# Buld matrix\n",
    "n_s = len(species)\n",
    "n_r = len(region)\n",
    "\n",
    "t_min = df['FirstRecord'].min()\n",
    "t_max = df['FirstRecord'].max()\n",
    "print(t_min, t_max, t_max-t_min)\n",
    "time_res = 10\n",
    "time = np.arange(t_min, t_max, time_res)\n",
    "\n",
    "p = n_s + n_r\n",
    "M = np.zeros((len(time), n_s, n_r))\n",
    "# M = np.zeros((len(time), p, p)) # if full\n",
    "\n",
    "for i, t in enumerate(time):\n",
    "    df_now = df[(df['FirstRecord'] >= t) & (df['FirstRecord'] < t+(time_res-1))]\n",
    "    for index, row in df_now.iterrows():\n",
    "        s = row['TaxonName']\n",
    "        r = row['Region']\n",
    "        # print(f'Species {s} invaded region {r} at time {t}')\n",
    "\n",
    "        s_idx = np.where(species == s)\n",
    "        r_idx = np.where(region == r)\n",
    "        M[i, s_idx, r_idx] = 1\n",
    "M.shape"
   ]
  },
  {
   "cell_type": "code",
   "execution_count": 10,
   "id": "fe5346dd",
   "metadata": {},
   "outputs": [
    {
     "name": "stdout",
     "output_type": "stream",
     "text": [
      "5465 213\n",
      "s = 5465, r = 213\n",
      "(22, 1164045)\n"
     ]
    }
   ],
   "source": [
    "# Export data and then import it into R\n",
    "print(n_s, n_r)\n",
    "M = M.reshape(len(time), n_s*n_r)\n",
    "# M = M.reshape(len(time), (p)**2) # if full matix\n",
    "print(f's = {n_s}, r = {n_r}')\n",
    "print(M.shape)\n",
    "np.save('../data/matrix.npy', M)"
   ]
  },
  {
   "cell_type": "code",
   "execution_count": 2,
   "id": "61ea05db",
   "metadata": {},
   "outputs": [],
   "source": [
    "import numpy as np\n",
    "# load matrix\n",
    "M = np.load('../data/matrix.npy')"
   ]
  },
  {
   "cell_type": "code",
   "execution_count": 3,
   "id": "52319543",
   "metadata": {},
   "outputs": [
    {
     "name": "stdout",
     "output_type": "stream",
     "text": [
      "There are in total 32648.0 iteraction.\n",
      "[[0. 0. 0. ... 0. 0. 0.]\n",
      " [0. 0. 0. ... 0. 0. 0.]\n",
      " [0. 0. 0. ... 0. 0. 0.]\n",
      " ...\n",
      " [0. 0. 0. ... 0. 0. 0.]\n",
      " [0. 0. 0. ... 0. 0. 0.]\n",
      " [0. 0. 0. ... 0. 0. 0.]]\n"
     ]
    }
   ],
   "source": [
    "print(f'There are in total {np.sum(M)} iteraction.')\n",
    "print(M[:10])"
   ]
  },
  {
   "cell_type": "code",
   "execution_count": 4,
   "id": "f433d580",
   "metadata": {},
   "outputs": [
    {
     "name": "stdout",
     "output_type": "stream",
     "text": [
      "0\n",
      "0\n",
      "My estimate 204871920\n",
      "204871920\n",
      "204872192\n",
      "204872192\n",
      "In MB 204.87192\n"
     ]
    }
   ],
   "source": [
    "# Load matrix into CUDA and see how much space it's using\n",
    "import cupy as cp\n",
    "mempool = cp.get_default_memory_pool()\n",
    "print(mempool.used_bytes())              # 0\n",
    "print(mempool.total_bytes())             # 0\n",
    "M_gpu = cp.array(M)\n",
    "est_bytes = np.prod(M.shape)*8\n",
    "print(f'My estimate {est_bytes}') # num bytes\n",
    "print(M.nbytes)                          # ~ num bytes\n",
    "print(mempool.used_bytes())              # ~ num bytes\n",
    "print(mempool.total_bytes())             # ~ num bytes\n",
    "\n",
    "print(f'In MB {est_bytes/(10**6)}')"
   ]
  },
  {
   "cell_type": "code",
   "execution_count": 19,
   "id": "757d61bf",
   "metadata": {},
   "outputs": [],
   "source": [
    "# TODO we should use sparse matrices for the data\n",
    "\n",
    "import scipy.sparse\n",
    "\n",
    "sp = scipy.sparse.csr_matrix(M)"
   ]
  },
  {
   "cell_type": "code",
   "execution_count": 47,
   "id": "3f5d88c3",
   "metadata": {},
   "outputs": [
    {
     "name": "stdout",
     "output_type": "stream",
     "text": [
      "(22, 5244) (5244,)\n",
      "False\n",
      "They are the same!\n"
     ]
    }
   ],
   "source": [
    "import cupy as cp\n",
    "from cupyx.scipy.sparse import csr_matrix as csr_gpu\n",
    "from scipy.sparse import random\n",
    "\n",
    "sp = random(22, n_s*n_r, density=0.25)\n",
    "sp_gpu = csr_gpu(sp)\n",
    "x = np.random.rand(n_s*n_r)\n",
    "\n",
    "res = sp.dot(x)\n",
    "\n",
    "print(sp_gpu.shape, x.shape)\n",
    "x_gpu = cp.array(x) #moving x to the gpu\n",
    "print(sp_gpu.shape[1] != len(x_gpu))\n",
    "\n",
    "res_gpu = sp_gpu.dot(x_gpu)\n",
    "\n",
    "if np.allclose(res, cp.asnumpy(res_gpu)):\n",
    "    print(\"They are the same!\")\n",
    "else:\n",
    "    print(\"They are different!\")"
   ]
  }
 ],
 "metadata": {
  "kernelspec": {
   "display_name": "Python 3 (ipykernel)",
   "language": "python",
   "name": "python3"
  },
  "language_info": {
   "codemirror_mode": {
    "name": "ipython",
    "version": 3
   },
   "file_extension": ".py",
   "mimetype": "text/x-python",
   "name": "python",
   "nbconvert_exporter": "python",
   "pygments_lexer": "ipython3",
   "version": "3.9.12"
  }
 },
 "nbformat": 4,
 "nbformat_minor": 5
}
