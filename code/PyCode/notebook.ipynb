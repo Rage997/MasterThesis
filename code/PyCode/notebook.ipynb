{
 "cells": [
  {
   "cell_type": "code",
   "execution_count": 14,
   "id": "c460e2bf",
   "metadata": {},
   "outputs": [],
   "source": [
    "import pandas as pd\n",
    "import numpy as np"
   ]
  },
  {
   "cell_type": "code",
   "execution_count": 15,
   "id": "7561e900",
   "metadata": {},
   "outputs": [],
   "source": [
    "# SEE: https://zenodo.org/record/4632335#.YkGzOShBz4c\n",
    "filename = '../data/GlobalAlienSpeciesFirstRecordDatabase_v2.xlsx'\n",
    "\n",
    "df_orig = pd.read_excel(filename, sheet_name=None)"
   ]
  },
  {
   "cell_type": "code",
   "execution_count": 4,
   "id": "1abc5230",
   "metadata": {},
   "outputs": [
    {
     "name": "stdout",
     "output_type": "stream",
     "text": [
      "dict_keys(['ReadMe', 'GlobalAlienSpeciesFirstRecordDa', 'References'])\n"
     ]
    }
   ],
   "source": [
    "# There are 3 sheets of the excel file\n",
    "print(df_orig.keys())\n",
    "# Get the correct one\n",
    "df = df_orig['GlobalAlienSpeciesFirstRecordDa']\n",
    "df = df[(df['LifeForm'] == 'Viruses') & (df['LifeForm'] == 'Viruses')]\n",
    "df = df[df['FirstRecord'] > 1950]"
   ]
  },
  {
   "cell_type": "code",
   "execution_count": 9,
   "id": "d2d24318",
   "metadata": {},
   "outputs": [
    {
     "name": "stdout",
     "output_type": "stream",
     "text": [
      "<class 'pandas.core.frame.DataFrame'>\n",
      "Int64Index: 16377 entries, 8 to 61741\n",
      "Data columns (total 15 columns):\n",
      " #   Column            Non-Null Count  Dtype \n",
      "---  ------            --------------  ----- \n",
      " 0   TaxonName         16377 non-null  object\n",
      " 1   scientificName    16377 non-null  object\n",
      " 2   Family            16125 non-null  object\n",
      " 3   Order             16269 non-null  object\n",
      " 4   Class             16301 non-null  object\n",
      " 5   Phylum            16350 non-null  object\n",
      " 6   Taxonomy          15984 non-null  object\n",
      " 7   OrigName          16377 non-null  object\n",
      " 8   LifeForm          16364 non-null  object\n",
      " 9   Region            16377 non-null  object\n",
      " 10  Island            4575 non-null   object\n",
      " 11  PresentStatus     10494 non-null  object\n",
      " 12  FirstRecord       16377 non-null  int64 \n",
      " 13  FirstRecord_orig  16377 non-null  object\n",
      " 14  Source            16377 non-null  object\n",
      "dtypes: int64(1), object(14)\n",
      "memory usage: 2.0+ MB\n"
     ]
    },
    {
     "data": {
      "text/html": [
       "<div>\n",
       "<style scoped>\n",
       "    .dataframe tbody tr th:only-of-type {\n",
       "        vertical-align: middle;\n",
       "    }\n",
       "\n",
       "    .dataframe tbody tr th {\n",
       "        vertical-align: top;\n",
       "    }\n",
       "\n",
       "    .dataframe thead th {\n",
       "        text-align: right;\n",
       "    }\n",
       "</style>\n",
       "<table border=\"1\" class=\"dataframe\">\n",
       "  <thead>\n",
       "    <tr style=\"text-align: right;\">\n",
       "      <th></th>\n",
       "      <th>TaxonName</th>\n",
       "      <th>scientificName</th>\n",
       "      <th>Family</th>\n",
       "      <th>Order</th>\n",
       "      <th>Class</th>\n",
       "      <th>Phylum</th>\n",
       "      <th>Taxonomy</th>\n",
       "      <th>OrigName</th>\n",
       "      <th>LifeForm</th>\n",
       "      <th>Region</th>\n",
       "      <th>Island</th>\n",
       "      <th>PresentStatus</th>\n",
       "      <th>FirstRecord</th>\n",
       "      <th>FirstRecord_orig</th>\n",
       "      <th>Source</th>\n",
       "    </tr>\n",
       "  </thead>\n",
       "  <tbody>\n",
       "    <tr>\n",
       "      <th>8</th>\n",
       "      <td>Achnanthes pseudogroenlandica</td>\n",
       "      <td>Achnanthes pseudogroenlandica Hendey, 1964</td>\n",
       "      <td>Achnanthaceae</td>\n",
       "      <td>Achnanthales</td>\n",
       "      <td>Bacillariophyceae</td>\n",
       "      <td>Ochrophyta</td>\n",
       "      <td>GBIF</td>\n",
       "      <td>Achnanthes pseudogroenlandica</td>\n",
       "      <td>Algae</td>\n",
       "      <td>Bulgaria</td>\n",
       "      <td>NaN</td>\n",
       "      <td>NaN</td>\n",
       "      <td>1984</td>\n",
       "      <td>1984</td>\n",
       "      <td>AquaNIS (2020)</td>\n",
       "    </tr>\n",
       "    <tr>\n",
       "      <th>9</th>\n",
       "      <td>Achnanthes pseudogroenlandica</td>\n",
       "      <td>Achnanthes pseudogroenlandica Hendey, 1964</td>\n",
       "      <td>Achnanthaceae</td>\n",
       "      <td>Achnanthales</td>\n",
       "      <td>Bacillariophyceae</td>\n",
       "      <td>Ochrophyta</td>\n",
       "      <td>GBIF</td>\n",
       "      <td>Achnanthes pseudogroenlandica</td>\n",
       "      <td>Algae</td>\n",
       "      <td>Romania</td>\n",
       "      <td>NaN</td>\n",
       "      <td>NaN</td>\n",
       "      <td>1984</td>\n",
       "      <td>1984</td>\n",
       "      <td>AquaNIS (2020)</td>\n",
       "    </tr>\n",
       "    <tr>\n",
       "      <th>10</th>\n",
       "      <td>Achnanthes pseudogroenlandica</td>\n",
       "      <td>Achnanthes pseudogroenlandica Hendey, 1964</td>\n",
       "      <td>Achnanthaceae</td>\n",
       "      <td>Achnanthales</td>\n",
       "      <td>Bacillariophyceae</td>\n",
       "      <td>Ochrophyta</td>\n",
       "      <td>GBIF</td>\n",
       "      <td>Achnanthes pseudogroenlandica</td>\n",
       "      <td>Algae</td>\n",
       "      <td>Ukraine</td>\n",
       "      <td>NaN</td>\n",
       "      <td>NaN</td>\n",
       "      <td>1984</td>\n",
       "      <td>1984</td>\n",
       "      <td>DAISIE</td>\n",
       "    </tr>\n",
       "    <tr>\n",
       "      <th>32</th>\n",
       "      <td>Agardhiella subulata</td>\n",
       "      <td>Agardhiella subulata (C.Agardh) Kraft &amp; M.J.Wynne</td>\n",
       "      <td>Solieriaceae</td>\n",
       "      <td>Gigartinales</td>\n",
       "      <td>Florideophyceae</td>\n",
       "      <td>Rhodophyta</td>\n",
       "      <td>GBIF</td>\n",
       "      <td>Agardhiella subulata</td>\n",
       "      <td>Algae</td>\n",
       "      <td>France</td>\n",
       "      <td>NaN</td>\n",
       "      <td>established</td>\n",
       "      <td>1984</td>\n",
       "      <td>1984</td>\n",
       "      <td>DAISIE</td>\n",
       "    </tr>\n",
       "    <tr>\n",
       "      <th>33</th>\n",
       "      <td>Agardhiella subulata</td>\n",
       "      <td>Agardhiella subulata (C.Agardh) Kraft &amp; M.J.Wynne</td>\n",
       "      <td>Solieriaceae</td>\n",
       "      <td>Gigartinales</td>\n",
       "      <td>Florideophyceae</td>\n",
       "      <td>Rhodophyta</td>\n",
       "      <td>GBIF</td>\n",
       "      <td>Agardhiella subulata</td>\n",
       "      <td>Algae</td>\n",
       "      <td>Italy</td>\n",
       "      <td>NaN</td>\n",
       "      <td>NaN</td>\n",
       "      <td>1987</td>\n",
       "      <td>1987</td>\n",
       "      <td>DAISIE</td>\n",
       "    </tr>\n",
       "  </tbody>\n",
       "</table>\n",
       "</div>"
      ],
      "text/plain": [
       "                        TaxonName  \\\n",
       "8   Achnanthes pseudogroenlandica   \n",
       "9   Achnanthes pseudogroenlandica   \n",
       "10  Achnanthes pseudogroenlandica   \n",
       "32           Agardhiella subulata   \n",
       "33           Agardhiella subulata   \n",
       "\n",
       "                                       scientificName         Family  \\\n",
       "8          Achnanthes pseudogroenlandica Hendey, 1964  Achnanthaceae   \n",
       "9          Achnanthes pseudogroenlandica Hendey, 1964  Achnanthaceae   \n",
       "10         Achnanthes pseudogroenlandica Hendey, 1964  Achnanthaceae   \n",
       "32  Agardhiella subulata (C.Agardh) Kraft & M.J.Wynne   Solieriaceae   \n",
       "33  Agardhiella subulata (C.Agardh) Kraft & M.J.Wynne   Solieriaceae   \n",
       "\n",
       "           Order              Class      Phylum Taxonomy  \\\n",
       "8   Achnanthales  Bacillariophyceae  Ochrophyta     GBIF   \n",
       "9   Achnanthales  Bacillariophyceae  Ochrophyta     GBIF   \n",
       "10  Achnanthales  Bacillariophyceae  Ochrophyta     GBIF   \n",
       "32  Gigartinales    Florideophyceae  Rhodophyta     GBIF   \n",
       "33  Gigartinales    Florideophyceae  Rhodophyta     GBIF   \n",
       "\n",
       "                         OrigName LifeForm    Region Island PresentStatus  \\\n",
       "8   Achnanthes pseudogroenlandica    Algae  Bulgaria    NaN           NaN   \n",
       "9   Achnanthes pseudogroenlandica    Algae   Romania    NaN           NaN   \n",
       "10  Achnanthes pseudogroenlandica    Algae   Ukraine    NaN           NaN   \n",
       "32           Agardhiella subulata    Algae    France    NaN   established   \n",
       "33           Agardhiella subulata    Algae     Italy    NaN           NaN   \n",
       "\n",
       "    FirstRecord FirstRecord_orig          Source  \n",
       "8          1984             1984  AquaNIS (2020)  \n",
       "9          1984             1984  AquaNIS (2020)  \n",
       "10         1984             1984          DAISIE  \n",
       "32         1984             1984          DAISIE  \n",
       "33         1987             1987          DAISIE  "
      ]
     },
     "execution_count": 9,
     "metadata": {},
     "output_type": "execute_result"
    }
   ],
   "source": [
    "df.info(show_counts=True)\n",
    "df.head()"
   ]
  },
  {
   "cell_type": "code",
   "execution_count": 6,
   "id": "ee68da7d",
   "metadata": {},
   "outputs": [
    {
     "name": "stdout",
     "output_type": "stream",
     "text": [
      "There are 19 families and 268 regions\n",
      "There are 15615 species.\n",
      "Algae[518], Amphibians[77], Arthropods p.p. (Myriapods, Diplopods etc.)[139], Bacteria and protozoans[28], Birds[744], Bryophytes[91], Bryozoa[101], Crustaceans[595], Fishes[748], Fungi[326], Insects[3773], Invertebrates (excl. Arthropods, Molluscs)[685], Mammals[169], Molluscs[549], Reptiles[166], Spiders[34], Vascular plants[6734], Viruses[18], nan[0], "
     ]
    }
   ],
   "source": [
    "family = df['LifeForm'].unique()\n",
    "region = df['Region'].unique()\n",
    "\n",
    "print(f'There are {len(family)} families and {len(region)} regions')\n",
    "species = df['TaxonName'].unique()\n",
    "\n",
    "print(f'There are {len(species)} species.')\n",
    "for p in family:\n",
    "    df_s = df[df['LifeForm'] == p]\n",
    "    animals = df_s['TaxonName'].unique()\n",
    "    print(f'{p}[{len(animals)}]', end=', ')\n"
   ]
  },
  {
   "cell_type": "code",
   "execution_count": 7,
   "id": "aa6ca04b",
   "metadata": {},
   "outputs": [],
   "source": [
    "# TODO This is really really really slow. A better way to do it?\n",
    "# Filter out irrelevant data\n",
    "spec_iter = np.zeros(len(species), dtype=int)\n",
    "\n",
    "for idx, s in enumerate(species):\n",
    "    df_s = df[df['TaxonName'] == s]\n",
    "    # n_iter = len(df_s)\n",
    "    spec_iter[idx] = len(df_s)\n",
    "    # print(f'The species {s} has {spec_iter[idx]} iteractions')"
   ]
  },
  {
   "cell_type": "code",
   "execution_count": 8,
   "id": "e6badf96",
   "metadata": {},
   "outputs": [
    {
     "name": "stdout",
     "output_type": "stream",
     "text": [
      "2828\n"
     ]
    }
   ],
   "source": [
    "# TODO This is really really really slow. A better way to do it?\n",
    "# select the species that have less than 3 iteractions\n",
    "idx = np.where(spec_iter < 3)\n",
    "# test = df\n",
    "\n",
    "# Filter the dataset: remove all rows belonging to species with less than 3 iteractions\n",
    "for s in species[idx]:\n",
    "    # print(s)  \n",
    "    df = df.drop(df[df['TaxonName'] == s].index)\n",
    "\n",
    "print(len(df['TaxonName'].unique()))"
   ]
  },
  {
   "cell_type": "code",
   "execution_count": 10,
   "id": "322ebbd3",
   "metadata": {},
   "outputs": [
    {
     "data": {
      "text/plain": [
       "(35, 15615, 268)"
      ]
     },
     "execution_count": 10,
     "metadata": {},
     "output_type": "execute_result"
    }
   ],
   "source": [
    "# Buld matrix\n",
    "n_s = len(species)\n",
    "n_r = len(region)\n",
    "\n",
    "t_min = df['FirstRecord'].min()\n",
    "t_max = df['FirstRecord'].max()\n",
    "time = np.arange(t_min, t_max, 2)\n",
    "\n",
    "p = n_s + n_r\n",
    "M = np.zeros((len(time), n_s, n_r))\n",
    "# M = np.zeros((len(time), p, p)) # if full\n",
    "\n",
    "for i, t in enumerate(time):\n",
    "    df_now = df[(df['FirstRecord'] >= t) & (df['FirstRecord'] < t+1)]\n",
    "    for index, row in df_now.iterrows():\n",
    "        s = row['TaxonName']\n",
    "        r = row['Region']\n",
    "        # print(f'Species {s} invaded region {r} at time {t}')\n",
    "\n",
    "        s_idx = np.where(species == s)\n",
    "        r_idx = np.where(region == r)\n",
    "        M[i, s_idx, r_idx] = 1\n",
    "M.shape"
   ]
  },
  {
   "cell_type": "code",
   "execution_count": 13,
   "id": "fe5346dd",
   "metadata": {},
   "outputs": [
    {
     "name": "stdout",
     "output_type": "stream",
     "text": [
      "15615 268\n",
      "s = 15615, r = 268\n",
      "(35, 4184820)\n"
     ]
    }
   ],
   "source": [
    "# Export data and then import it into R\n",
    "print(n_s, n_r)\n",
    "M = M.reshape(len(time), n_s*n_r)\n",
    "# M = M.reshape(len(time), (p)**2) # if full matix\n",
    "print(f's = {n_s}, r = {n_r}')\n",
    "print(M.shape)\n",
    "np.save('../data/matrix.npy', M)"
   ]
  },
  {
   "cell_type": "code",
   "execution_count": null,
   "id": "309249f2",
   "metadata": {},
   "outputs": [],
   "source": [
    "print(f'There are in total {np.sum(M)} iteraction.')\n",
    "\n",
    "# This was done for really specific case (only viruses)\n",
    "# We were studying the results of the R algorithm\n",
    "idx = np.array([5,  8,  9, 13, 17, 18, 20, 24, 25, 29, 30])\n",
    "idx = idx - 1\n",
    "most_relevant_spec = np.sum(M[:, 12, idx])\n",
    "print(f'Of which {most_relevant_spec} are given by species n 12 {species[12]}')x"
   ]
  },
  {
   "cell_type": "code",
   "execution_count": 11,
   "id": "757d61bf",
   "metadata": {},
   "outputs": [],
   "source": [
    "# TODO we should use sparse matrices for the data\n",
    "\n",
    "import scipy.sparse\n",
    "\n",
    "rows = [2, 236, 246, 389, 1691]\n",
    "cols = [117, 3, 34, 2757, 74, 1635, 52]\n",
    "prod = [(x, y) for x in rows for y in cols] # combinations\n",
    "r = [x for (x, y) in prod] # x_coordinate\n",
    "c = [y for (x, y) in prod] # y_coordinate\n",
    "data = [1] * len(r)\n",
    "m = scipy.sparse.coo_matrix((data, (r, c)), shape=(100000, 40000))"
   ]
  }
 ],
 "metadata": {
  "kernelspec": {
   "display_name": "Python 3 (ipykernel)",
   "language": "python",
   "name": "python3"
  },
  "language_info": {
   "codemirror_mode": {
    "name": "ipython",
    "version": 3
   },
   "file_extension": ".py",
   "mimetype": "text/x-python",
   "name": "python",
   "nbconvert_exporter": "python",
   "pygments_lexer": "ipython3",
   "version": "3.9.12"
  }
 },
 "nbformat": 4,
 "nbformat_minor": 5
}
