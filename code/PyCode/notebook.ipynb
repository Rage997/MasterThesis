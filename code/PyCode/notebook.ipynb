{
 "cells": [
  {
   "cell_type": "code",
   "execution_count": 39,
   "id": "c460e2bf",
   "metadata": {},
   "outputs": [],
   "source": [
    "import pandas as pd\n",
    "import numpy as np\n",
    "from visuals import *"
   ]
  },
  {
   "cell_type": "code",
   "execution_count": 40,
   "id": "7561e900",
   "metadata": {},
   "outputs": [
    {
     "name": "stdout",
     "output_type": "stream",
     "text": [
      "dict_keys(['ReadMe', 'GlobalAlienSpeciesFirstRecordDa', 'References'])\n",
      "<class 'pandas.core.frame.DataFrame'>\n",
      "RangeIndex: 61751 entries, 0 to 61750\n",
      "Data columns (total 15 columns):\n",
      " #   Column            Non-Null Count  Dtype \n",
      "---  ------            --------------  ----- \n",
      " 0   TaxonName         61751 non-null  object\n",
      " 1   scientificName    61751 non-null  object\n",
      " 2   Family            57925 non-null  object\n",
      " 3   Order             60709 non-null  object\n",
      " 4   Class             60664 non-null  object\n",
      " 5   Phylum            60793 non-null  object\n",
      " 6   Taxonomy          57045 non-null  object\n",
      " 7   OrigName          61751 non-null  object\n",
      " 8   LifeForm          61571 non-null  object\n",
      " 9   Region            61751 non-null  object\n",
      " 10  Island            17552 non-null  object\n",
      " 11  PresentStatus     33473 non-null  object\n",
      " 12  FirstRecord       61751 non-null  int64 \n",
      " 13  FirstRecord_orig  61751 non-null  object\n",
      " 14  Source            61751 non-null  object\n",
      "dtypes: int64(1), object(14)\n",
      "memory usage: 7.1+ MB\n"
     ]
    }
   ],
   "source": [
    "# SEE: https://zenodo.org/record/4632335#.YkGzOShBz4c\n",
    "filename = '../data/GlobalAlienSpeciesFirstRecordDatabase_v2.xlsx'\n",
    "\n",
    "df_orig = pd.read_excel(filename, sheet_name=None)\n",
    "# There are 3 sheets of the excel file\n",
    "print(df_orig.keys())\n",
    "df_orig = df_orig['GlobalAlienSpeciesFirstRecordDa']\n",
    "df_orig.info(show_counts=True)\n",
    "\n"
   ]
  },
  {
   "cell_type": "markdown",
   "id": "97ff99da",
   "metadata": {},
   "source": []
  },
  {
   "cell_type": "code",
   "execution_count": 41,
   "id": "1abc5230",
   "metadata": {},
   "outputs": [
    {
     "name": "stdout",
     "output_type": "stream",
     "text": [
      "The dataset range from 1800 to 2017\n"
     ]
    }
   ],
   "source": [
    "df = df_orig\n",
    "df = df.dropna()\n",
    "\n",
    "# Get the correct one\n",
    "# df = df[(df['LifeForm'] != 'Insects') & (df['LifeForm'] != 'Vascular plants') & (df['LifeForm'] != 'Fishes') \\\n",
    "#         & (df['LifeForm'] != 'Birds') & (df['LifeForm'] != 'Algae') \\\n",
    "#         & (df['LifeForm'] != 'Invertebrates (excl. Arthropods, Molluscs)') \n",
    "#         & (df['LifeForm'] != 'Molluscs') & (df['LifeForm'] != 'Crustaceans') \\\n",
    "#         & (df['LifeForm'] != 'Fungi') & (df['LifeForm'] != 'Reptiles') \\\n",
    "#         # & (df['LifeForm'] != 'Arthropods p.p. (Myriapods, Diplopods etc.)') & (df['LifeForm'] != 'Mammals') \\\n",
    "#         # & (df['LifeForm'] != 'Amphibians') & (df['LifeForm'] != 'Bryophytes') \\\n",
    "#         # & (df['LifeForm'] != 'Amphibians') & (df['LifeForm'] != 'nan') \\\n",
    "#         & (df['LifeForm'] != 'Bryozoa') & (df['LifeForm'] != 'Spiders') \\\n",
    "        # ]\n",
    "# df = df[(df['FirstRecord'] > 1950) & (df['FirstRecord'] < 2010)]\n",
    "\n",
    "df = df[df['FirstRecord'] > 1800]\n",
    "last_year = np.max(df['FirstRecord'])\n",
    "print(f'The dataset range from 1800 to {last_year}')"
   ]
  },
  {
   "cell_type": "code",
   "execution_count": 42,
   "id": "d2d24318",
   "metadata": {},
   "outputs": [
    {
     "name": "stdout",
     "output_type": "stream",
     "text": [
      "<class 'pandas.core.frame.DataFrame'>\n",
      "Int64Index: 8346 entries, 1 to 61495\n",
      "Data columns (total 15 columns):\n",
      " #   Column            Non-Null Count  Dtype \n",
      "---  ------            --------------  ----- \n",
      " 0   TaxonName         8346 non-null   object\n",
      " 1   scientificName    8346 non-null   object\n",
      " 2   Family            8346 non-null   object\n",
      " 3   Order             8346 non-null   object\n",
      " 4   Class             8346 non-null   object\n",
      " 5   Phylum            8346 non-null   object\n",
      " 6   Taxonomy          8346 non-null   object\n",
      " 7   OrigName          8346 non-null   object\n",
      " 8   LifeForm          8346 non-null   object\n",
      " 9   Region            8346 non-null   object\n",
      " 10  Island            8346 non-null   object\n",
      " 11  PresentStatus     8346 non-null   object\n",
      " 12  FirstRecord       8346 non-null   int64 \n",
      " 13  FirstRecord_orig  8346 non-null   object\n",
      " 14  Source            8346 non-null   object\n",
      "dtypes: int64(1), object(14)\n",
      "memory usage: 1.0+ MB\n"
     ]
    },
    {
     "data": {
      "text/html": [
       "<div>\n",
       "<style scoped>\n",
       "    .dataframe tbody tr th:only-of-type {\n",
       "        vertical-align: middle;\n",
       "    }\n",
       "\n",
       "    .dataframe tbody tr th {\n",
       "        vertical-align: top;\n",
       "    }\n",
       "\n",
       "    .dataframe thead th {\n",
       "        text-align: right;\n",
       "    }\n",
       "</style>\n",
       "<table border=\"1\" class=\"dataframe\">\n",
       "  <thead>\n",
       "    <tr style=\"text-align: right;\">\n",
       "      <th></th>\n",
       "      <th>TaxonName</th>\n",
       "      <th>scientificName</th>\n",
       "      <th>Family</th>\n",
       "      <th>Order</th>\n",
       "      <th>Class</th>\n",
       "      <th>Phylum</th>\n",
       "      <th>Taxonomy</th>\n",
       "      <th>OrigName</th>\n",
       "      <th>LifeForm</th>\n",
       "      <th>Region</th>\n",
       "      <th>Island</th>\n",
       "      <th>PresentStatus</th>\n",
       "      <th>FirstRecord</th>\n",
       "      <th>FirstRecord_orig</th>\n",
       "      <th>Source</th>\n",
       "    </tr>\n",
       "  </thead>\n",
       "  <tbody>\n",
       "    <tr>\n",
       "      <th>1</th>\n",
       "      <td>Acanthophora nayadiformis</td>\n",
       "      <td>Acanthophora nayadiformis (Delile) Papenf., 1968</td>\n",
       "      <td>Rhodomelaceae</td>\n",
       "      <td>Ceramiales</td>\n",
       "      <td>Florideophyceae</td>\n",
       "      <td>Rhodophyta</td>\n",
       "      <td>GBIF</td>\n",
       "      <td>Acanthophora nayadiformis</td>\n",
       "      <td>Algae</td>\n",
       "      <td>Cyprus</td>\n",
       "      <td>yes</td>\n",
       "      <td>alien</td>\n",
       "      <td>1997</td>\n",
       "      <td>1997</td>\n",
       "      <td>DAISIE</td>\n",
       "    </tr>\n",
       "    <tr>\n",
       "      <th>36</th>\n",
       "      <td>Agardhiella subulata</td>\n",
       "      <td>Agardhiella subulata (C.Agardh) Kraft &amp; M.J.Wynne</td>\n",
       "      <td>Solieriaceae</td>\n",
       "      <td>Gigartinales</td>\n",
       "      <td>Florideophyceae</td>\n",
       "      <td>Rhodophyta</td>\n",
       "      <td>GBIF</td>\n",
       "      <td>Agardhiella subulata</td>\n",
       "      <td>Algae</td>\n",
       "      <td>United Kingdom</td>\n",
       "      <td>yes</td>\n",
       "      <td>established</td>\n",
       "      <td>1973</td>\n",
       "      <td>1973</td>\n",
       "      <td>Roy H et al. (2012)</td>\n",
       "    </tr>\n",
       "    <tr>\n",
       "      <th>75</th>\n",
       "      <td>Alexandrium tamarense</td>\n",
       "      <td>Alexandrium tamarense (Lebour) Balech</td>\n",
       "      <td>Ostreopsidaceae</td>\n",
       "      <td>Gonyaulacales</td>\n",
       "      <td>Dinophyceae</td>\n",
       "      <td>Myzozoa</td>\n",
       "      <td>GBIF</td>\n",
       "      <td>Alexandrium tamarense</td>\n",
       "      <td>Algae</td>\n",
       "      <td>Ireland</td>\n",
       "      <td>yes</td>\n",
       "      <td>established</td>\n",
       "      <td>1986</td>\n",
       "      <td>1986</td>\n",
       "      <td>DAISIE</td>\n",
       "    </tr>\n",
       "    <tr>\n",
       "      <th>81</th>\n",
       "      <td>Alexandrium tamarense</td>\n",
       "      <td>Alexandrium tamarense (Lebour) Balech</td>\n",
       "      <td>Ostreopsidaceae</td>\n",
       "      <td>Gonyaulacales</td>\n",
       "      <td>Dinophyceae</td>\n",
       "      <td>Myzozoa</td>\n",
       "      <td>GBIF</td>\n",
       "      <td>Alexandrium tamarense</td>\n",
       "      <td>Algae</td>\n",
       "      <td>United Kingdom</td>\n",
       "      <td>yes</td>\n",
       "      <td>established</td>\n",
       "      <td>1957</td>\n",
       "      <td>1957</td>\n",
       "      <td>Roy H et al. (2012)</td>\n",
       "    </tr>\n",
       "    <tr>\n",
       "      <th>95</th>\n",
       "      <td>Anotrichium furcellatum</td>\n",
       "      <td>Anotrichium furcellatum (J.Agardh) Baldock</td>\n",
       "      <td>Wrangeliaceae</td>\n",
       "      <td>Ceramiales</td>\n",
       "      <td>Florideophyceae</td>\n",
       "      <td>Rhodophyta</td>\n",
       "      <td>GBIF</td>\n",
       "      <td>Anotrichium furcellatum</td>\n",
       "      <td>Algae</td>\n",
       "      <td>Canary Islands</td>\n",
       "      <td>yes</td>\n",
       "      <td>established</td>\n",
       "      <td>2004</td>\n",
       "      <td>2004</td>\n",
       "      <td>DAISIE</td>\n",
       "    </tr>\n",
       "  </tbody>\n",
       "</table>\n",
       "</div>"
      ],
      "text/plain": [
       "                    TaxonName  \\\n",
       "1   Acanthophora nayadiformis   \n",
       "36       Agardhiella subulata   \n",
       "75      Alexandrium tamarense   \n",
       "81      Alexandrium tamarense   \n",
       "95    Anotrichium furcellatum   \n",
       "\n",
       "                                       scientificName           Family  \\\n",
       "1    Acanthophora nayadiformis (Delile) Papenf., 1968    Rhodomelaceae   \n",
       "36  Agardhiella subulata (C.Agardh) Kraft & M.J.Wynne     Solieriaceae   \n",
       "75              Alexandrium tamarense (Lebour) Balech  Ostreopsidaceae   \n",
       "81              Alexandrium tamarense (Lebour) Balech  Ostreopsidaceae   \n",
       "95         Anotrichium furcellatum (J.Agardh) Baldock    Wrangeliaceae   \n",
       "\n",
       "            Order            Class      Phylum Taxonomy  \\\n",
       "1      Ceramiales  Florideophyceae  Rhodophyta     GBIF   \n",
       "36   Gigartinales  Florideophyceae  Rhodophyta     GBIF   \n",
       "75  Gonyaulacales      Dinophyceae     Myzozoa     GBIF   \n",
       "81  Gonyaulacales      Dinophyceae     Myzozoa     GBIF   \n",
       "95     Ceramiales  Florideophyceae  Rhodophyta     GBIF   \n",
       "\n",
       "                     OrigName LifeForm          Region Island PresentStatus  \\\n",
       "1   Acanthophora nayadiformis    Algae          Cyprus    yes         alien   \n",
       "36       Agardhiella subulata    Algae  United Kingdom    yes   established   \n",
       "75      Alexandrium tamarense    Algae         Ireland    yes   established   \n",
       "81      Alexandrium tamarense    Algae  United Kingdom    yes   established   \n",
       "95    Anotrichium furcellatum    Algae  Canary Islands    yes   established   \n",
       "\n",
       "    FirstRecord FirstRecord_orig                Source  \n",
       "1          1997             1997                DAISIE  \n",
       "36         1973             1973  Roy H et al. (2012)   \n",
       "75         1986             1986                DAISIE  \n",
       "81         1957             1957  Roy H et al. (2012)   \n",
       "95         2004             2004                DAISIE  "
      ]
     },
     "execution_count": 42,
     "metadata": {},
     "output_type": "execute_result"
    }
   ],
   "source": [
    "df.info(show_counts=True)\n",
    "df.head()"
   ]
  },
  {
   "cell_type": "code",
   "execution_count": 31,
   "id": "ee68da7d",
   "metadata": {},
   "outputs": [
    {
     "name": "stdout",
     "output_type": "stream",
     "text": [
      "There are 16 families and 110 regions\n",
      "There are 4960 species.\n",
      "Algae[66], Amphibians[20], Arthropods p.p. (Myriapods, Diplopods etc.)[17], Bacteria and protozoans[3], Birds[632], Bryophytes[18], Bryozoa[25], Crustaceans[82], Fishes[254], Fungi[12], Insects[650], Invertebrates (excl. Arthropods, Molluscs)[89], Mammals[124], Molluscs[99], Reptiles[41], Vascular plants[2828], "
     ]
    },
    {
     "name": "stderr",
     "output_type": "stream",
     "text": [
      "findfont: Font family ['Franklin Gothic Book'] not found. Falling back to DejaVu Sans.\n"
     ]
    },
    {
     "data": {
      "image/png": "[encoded data removed]",
      "text/plain": [
       "<Figure size 432x288 with 1 Axes>"
      ]
     },
     "metadata": {
      "needs_background": "light"
     },
     "output_type": "display_data"
    }
   ],
   "source": [
    "family = df['LifeForm'].unique()\n",
    "region = df['Region'].unique()\n",
    "\n",
    "print(f'There are {len(family)} families and {len(region)} regions')\n",
    "species = df['TaxonName'].unique()\n",
    "\n",
    "count_animals = []\n",
    "print(f'There are {len(species)} species.')\n",
    "for p in family:\n",
    "    df_s = df[df['LifeForm'] == p]\n",
    "    animals = df_s['TaxonName'].unique()\n",
    "    animals = len(animals)\n",
    "    count_animals.append(animals)\n",
    "    print(f'{p}[{animals}]', end=', ')\n",
    "\n",
    "# Plot histogram of families and how many entries\n",
    "import matplotlib.pyplot as plt\n",
    "\n",
    "plt.bar(range(len(count_animals)), count_animals, align='center')\n",
    "firstletter_family = [f[:3]+'.' for f in family]\n",
    "plt.xticks(range(len(family)), firstletter_family, size='small')\n",
    "plt.savefig('../../latex/figures/histogram_taxfam.png', dpi=1200)\n",
    "plt.show()"
   ]
  },
  {
   "cell_type": "code",
   "execution_count": 20,
   "id": "aa6ca04b",
   "metadata": {},
   "outputs": [],
   "source": [
    "# Filter out all the irrelevant species and regions\n",
    "# TODO This is really really really slow. A better way to do it?\n",
    "# Filter out irrelevant data\n",
    "\n",
    "spec_iter = np.zeros(len(species), dtype=int)\n",
    "reg_iter = np.zeros(len(region), dtype=int)\n",
    "\n",
    "for idx, s in enumerate(species):\n",
    "    df_s = df[df['TaxonName'] == s]\n",
    "    # n_iter = len(df_s)\n",
    "    spec_iter[idx] = len(df_s)\n",
    "    # print(f'The species {s} has {spec_iter[idx]} iteractions')\n",
    "\n",
    "\n",
    "for idx, s in enumerate(region):\n",
    "    df_s = df[df['Region'] == s]\n",
    "    # n_iter = len(df_s)\n",
    "    reg_iter[idx] = len(df_s)\n",
    "    # print(f'The species {s} has {spec_iter[idx]} iteractions')"
   ]
  },
  {
   "cell_type": "code",
   "execution_count": 8,
   "id": "e6badf96",
   "metadata": {},
   "outputs": [
    {
     "name": "stdout",
     "output_type": "stream",
     "text": [
      "Removed 17574 species\n",
      "Removed 63 region\n"
     ]
    }
   ],
   "source": [
    "# TODO This is really really really slow. A better way to do it?\n",
    "# select the species that have less than 3 iteractions\n",
    "remove_s_idx = np.where(spec_iter < 3)\n",
    "remove_r_idx = np.where(reg_iter < 10)\n",
    "\n",
    "# Filter the dataset: remove all rows belonging to species with less than 3 iteractions\n",
    "for s in species[remove_s_idx]:\n",
    "    # print(s)  \n",
    "    df = df.drop(df[df['TaxonName'] == s].index)\n",
    "\n",
    "# Filter the dataset: remove all rows belonging to region with less than 10 invasions\n",
    "for s in region[remove_r_idx]:\n",
    "    # print(s)  \n",
    "    df = df.drop(df[df['Region'] == s].index)\n",
    "\n",
    "species_removed = len(species) - len(df['TaxonName'].unique())\n",
    "print(f'Removed {species_removed} species')\n",
    "region_removed = len(region) - len(df['Region'].unique())\n",
    "print(f'Removed {region_removed} region')\n",
    "\n",
    "# Update region, species\n",
    "region = df['Region'].unique()\n",
    "species = df['TaxonName'].unique()\n"
   ]
  },
  {
   "cell_type": "code",
   "execution_count": 12,
   "id": "8c638c99",
   "metadata": {},
   "outputs": [
    {
     "name": "stdout",
     "output_type": "stream",
     "text": [
      "1801 2020 219\n"
     ]
    },
    {
     "data": {
      "text/plain": [
       "(22, 19, 276)"
      ]
     },
     "execution_count": 12,
     "metadata": {},
     "output_type": "execute_result"
    }
   ],
   "source": [
    "# Buld matrix by grouping the dataset into taxonomic families rather than species to reduce the complexity\n",
    "n_f = len(family)\n",
    "n_r = len(region)\n",
    "\n",
    "t_min = df['FirstRecord'].min()\n",
    "t_max = df['FirstRecord'].max()\n",
    "print(t_min, t_max, t_max-t_min)\n",
    "time_res = 10\n",
    "time = np.arange(t_min, t_max, time_res)\n",
    "\n",
    "p = n_f + n_r\n",
    "M = np.zeros((len(time), n_f, n_r))\n",
    "# M = np.zeros((len(time), p, p)) # if full\n",
    "\n",
    "for i, t in enumerate(time):\n",
    "    df_now = df[(df['FirstRecord'] >= t) & (df['FirstRecord'] < t+(time_res-1))]\n",
    "    for index, row in df_now.iterrows():\n",
    "        f = row['LifeForm']\n",
    "        r = row['Region']\n",
    "        # print(f'Family {f} invaded region {r} at time {t}')\n",
    "\n",
    "        f_idx = np.where(family == f)\n",
    "        r_idx = np.where(region == r)\n",
    "        M[i, f_idx, r_idx] = 1\n",
    "M.shape"
   ]
  },
  {
   "cell_type": "code",
   "execution_count": 13,
   "id": "322ebbd3",
   "metadata": {},
   "outputs": [
    {
     "name": "stdout",
     "output_type": "stream",
     "text": [
      "1801 2020 219\n"
     ]
    },
    {
     "data": {
      "text/plain": [
       "(22, 23039, 276)"
      ]
     },
     "execution_count": 13,
     "metadata": {},
     "output_type": "execute_result"
    }
   ],
   "source": [
    "# Buld matrix\n",
    "n_s = len(species)\n",
    "n_r = len(region)\n",
    "\n",
    "t_min = df['FirstRecord'].min()\n",
    "t_max = df['FirstRecord'].max()\n",
    "print(t_min, t_max, t_max-t_min)\n",
    "time_res = 10\n",
    "time = np.arange(t_min, t_max, time_res)\n",
    "\n",
    "p = n_s + n_r\n",
    "M = np.zeros((len(time), n_s, n_r))\n",
    "# M = np.zeros((len(time), p, p)) # if full\n",
    "\n",
    "for i, t in enumerate(time):\n",
    "    df_now = df[(df['FirstRecord'] >= t) & (df['FirstRecord'] < t+(time_res-1))]\n",
    "    for index, row in df_now.iterrows():\n",
    "        s = row['TaxonName']\n",
    "        r = row['Region']\n",
    "        # print(f'Species {s} invaded region {r} at time {t}')\n",
    "\n",
    "        s_idx = np.where(species == s)\n",
    "        r_idx = np.where(region == r)\n",
    "        M[i, s_idx, r_idx] = 1\n",
    "M.shape"
   ]
  },
  {
   "cell_type": "code",
   "execution_count": 10,
   "id": "fe5346dd",
   "metadata": {},
   "outputs": [
    {
     "name": "stdout",
     "output_type": "stream",
     "text": [
      "5465 213\n",
      "s = 5465, r = 213\n",
      "(22, 1164045)\n"
     ]
    }
   ],
   "source": [
    "# Export data and then import it into R\n",
    "print(n_s, n_r)\n",
    "M = M.reshape(len(time), n_s*n_r)\n",
    "# M = M.reshape(len(time), (p)**2) # if full matix\n",
    "print(f's = {n_s}, r = {n_r}')\n",
    "print(M.shape)\n",
    "np.save('../data/matrix.npy', M)"
   ]
  },
  {
   "cell_type": "code",
   "execution_count": 2,
   "id": "61ea05db",
   "metadata": {},
   "outputs": [],
   "source": [
    "import numpy as np\n",
    "# load matrix\n",
    "M = np.load('../data/matrix.npy')"
   ]
  },
  {
   "cell_type": "code",
   "execution_count": 34,
   "id": "52319543",
   "metadata": {},
   "outputs": [
    {
     "name": "stdout",
     "output_type": "stream",
     "text": [
      "There are in total 50986.0 iteraction.\n",
      "[[[0. 0. 0. ... 0. 0. 0.]\n",
      "  [0. 0. 0. ... 0. 0. 0.]\n",
      "  [0. 0. 0. ... 0. 0. 0.]\n",
      "  ...\n",
      "  [0. 0. 0. ... 0. 0. 0.]\n",
      "  [0. 0. 0. ... 0. 0. 0.]\n",
      "  [0. 0. 0. ... 0. 0. 0.]]\n",
      "\n",
      " [[0. 0. 0. ... 0. 0. 0.]\n",
      "  [0. 0. 0. ... 0. 0. 0.]\n",
      "  [0. 0. 0. ... 0. 0. 0.]\n",
      "  ...\n",
      "  [0. 0. 0. ... 0. 0. 0.]\n",
      "  [0. 0. 0. ... 0. 0. 0.]\n",
      "  [0. 0. 0. ... 0. 0. 0.]]\n",
      "\n",
      " [[0. 0. 0. ... 0. 0. 0.]\n",
      "  [0. 0. 0. ... 0. 0. 0.]\n",
      "  [0. 0. 0. ... 0. 0. 0.]\n",
      "  ...\n",
      "  [0. 0. 0. ... 0. 0. 0.]\n",
      "  [0. 0. 0. ... 0. 0. 0.]\n",
      "  [0. 0. 0. ... 0. 0. 0.]]\n",
      "\n",
      " ...\n",
      "\n",
      " [[0. 0. 0. ... 0. 0. 0.]\n",
      "  [0. 0. 0. ... 0. 0. 0.]\n",
      "  [0. 0. 0. ... 0. 0. 0.]\n",
      "  ...\n",
      "  [0. 0. 0. ... 0. 0. 0.]\n",
      "  [0. 0. 0. ... 0. 0. 0.]\n",
      "  [0. 0. 0. ... 0. 0. 0.]]\n",
      "\n",
      " [[0. 0. 0. ... 0. 0. 0.]\n",
      "  [0. 0. 0. ... 0. 0. 0.]\n",
      "  [0. 0. 0. ... 0. 0. 0.]\n",
      "  ...\n",
      "  [0. 0. 0. ... 0. 0. 0.]\n",
      "  [0. 0. 0. ... 0. 0. 0.]\n",
      "  [0. 0. 0. ... 0. 0. 0.]]\n",
      "\n",
      " [[0. 0. 0. ... 0. 0. 0.]\n",
      "  [0. 0. 0. ... 0. 0. 0.]\n",
      "  [0. 0. 0. ... 0. 0. 0.]\n",
      "  ...\n",
      "  [0. 0. 0. ... 0. 0. 0.]\n",
      "  [0. 0. 0. ... 0. 0. 0.]\n",
      "  [0. 0. 0. ... 0. 0. 0.]]]\n"
     ]
    }
   ],
   "source": [
    "print(f'There are in total {np.sum(M)} iteraction.')\n",
    "print(M[:10])"
   ]
  },
  {
   "cell_type": "code",
   "execution_count": null,
   "id": "23023701",
   "metadata": {},
   "outputs": [],
   "source": []
  }
 ],
 "metadata": {
  "kernelspec": {
   "display_name": "Python 3 (ipykernel)",
   "language": "python",
   "name": "python3"
  },
  "language_info": {
   "codemirror_mode": {
    "name": "ipython",
    "version": 3
   },
   "file_extension": ".py",
   "mimetype": "text/x-python",
   "name": "python",
   "nbconvert_exporter": "python",
   "pygments_lexer": "ipython3",
   "version": "3.9.12"
  }
 },
 "nbformat": 4,
 "nbformat_minor": 5
}
