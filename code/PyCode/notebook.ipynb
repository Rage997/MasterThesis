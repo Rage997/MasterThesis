{
 "cells": [
  {
   "cell_type": "code",
   "execution_count": 1,
   "id": "c460e2bf",
   "metadata": {},
   "outputs": [],
   "source": [
    "import pandas as pd\n",
    "import numpy as np"
   ]
  },
  {
   "cell_type": "code",
   "execution_count": 2,
   "id": "7561e900",
   "metadata": {},
   "outputs": [],
   "source": [
    "# SEE: https://zenodo.org/record/4632335#.YkGzOShBz4c\n",
    "filename = '../data/GlobalAlienSpeciesFirstRecordDatabase_v2.xlsx'\n",
    "\n",
    "df_orig = pd.read_excel(filename, sheet_name=None)"
   ]
  },
  {
   "cell_type": "code",
   "execution_count": 3,
   "id": "1abc5230",
   "metadata": {},
   "outputs": [
    {
     "name": "stdout",
     "output_type": "stream",
     "text": [
      "dict_keys(['ReadMe', 'GlobalAlienSpeciesFirstRecordDa', 'References'])\n"
     ]
    }
   ],
   "source": [
    "# There are 3 sheets of the excel file\n",
    "print(df_orig.keys())\n",
    "# Get the correct one\n",
    "df = df_orig['GlobalAlienSpeciesFirstRecordDa']\n",
    "df = df[df['LifeForm'] == 'Viruses']\n",
    "df = df[df['FirstRecord'] > 1950]"
   ]
  },
  {
   "cell_type": "code",
   "execution_count": 4,
   "id": "d2d24318",
   "metadata": {},
   "outputs": [
    {
     "name": "stdout",
     "output_type": "stream",
     "text": [
      "<class 'pandas.core.frame.DataFrame'>\n",
      "Int64Index: 44 entries, 61521 to 61570\n",
      "Data columns (total 15 columns):\n",
      " #   Column            Non-Null Count  Dtype \n",
      "---  ------            --------------  ----- \n",
      " 0   TaxonName         44 non-null     object\n",
      " 1   scientificName    44 non-null     object\n",
      " 2   Family            31 non-null     object\n",
      " 3   Order             29 non-null     object\n",
      " 4   Class             28 non-null     object\n",
      " 5   Phylum            27 non-null     object\n",
      " 6   Taxonomy          27 non-null     object\n",
      " 7   OrigName          44 non-null     object\n",
      " 8   LifeForm          44 non-null     object\n",
      " 9   Region            44 non-null     object\n",
      " 10  Island            7 non-null      object\n",
      " 11  PresentStatus     1 non-null      object\n",
      " 12  FirstRecord       44 non-null     int64 \n",
      " 13  FirstRecord_orig  44 non-null     object\n",
      " 14  Source            44 non-null     object\n",
      "dtypes: int64(1), object(14)\n",
      "memory usage: 5.5+ KB\n"
     ]
    },
    {
     "data": {
      "text/html": [
       "<div>\n",
       "<style scoped>\n",
       "    .dataframe tbody tr th:only-of-type {\n",
       "        vertical-align: middle;\n",
       "    }\n",
       "\n",
       "    .dataframe tbody tr th {\n",
       "        vertical-align: top;\n",
       "    }\n",
       "\n",
       "    .dataframe thead th {\n",
       "        text-align: right;\n",
       "    }\n",
       "</style>\n",
       "<table border=\"1\" class=\"dataframe\">\n",
       "  <thead>\n",
       "    <tr style=\"text-align: right;\">\n",
       "      <th></th>\n",
       "      <th>TaxonName</th>\n",
       "      <th>scientificName</th>\n",
       "      <th>Family</th>\n",
       "      <th>Order</th>\n",
       "      <th>Class</th>\n",
       "      <th>Phylum</th>\n",
       "      <th>Taxonomy</th>\n",
       "      <th>OrigName</th>\n",
       "      <th>LifeForm</th>\n",
       "      <th>Region</th>\n",
       "      <th>Island</th>\n",
       "      <th>PresentStatus</th>\n",
       "      <th>FirstRecord</th>\n",
       "      <th>FirstRecord_orig</th>\n",
       "      <th>Source</th>\n",
       "    </tr>\n",
       "  </thead>\n",
       "  <tbody>\n",
       "    <tr>\n",
       "      <th>61521</th>\n",
       "      <td>Beet necrotic yellow vein virus</td>\n",
       "      <td>Beet necrotic yellow vein virus (BNYVV)</td>\n",
       "      <td>NaN</td>\n",
       "      <td>NaN</td>\n",
       "      <td>NaN</td>\n",
       "      <td>NaN</td>\n",
       "      <td>NaN</td>\n",
       "      <td>Beet necrotic yellow vein virus (BNYVV)</td>\n",
       "      <td>Viruses</td>\n",
       "      <td>China</td>\n",
       "      <td>NaN</td>\n",
       "      <td>NaN</td>\n",
       "      <td>1978</td>\n",
       "      <td>1978</td>\n",
       "      <td>Xu et al. (2012)</td>\n",
       "    </tr>\n",
       "    <tr>\n",
       "      <th>61522</th>\n",
       "      <td>Broad bean strain virus</td>\n",
       "      <td>Broad bean strain virus (BBSV)</td>\n",
       "      <td>NaN</td>\n",
       "      <td>NaN</td>\n",
       "      <td>NaN</td>\n",
       "      <td>NaN</td>\n",
       "      <td>NaN</td>\n",
       "      <td>Broad bean strain virus (BBSV)</td>\n",
       "      <td>Viruses</td>\n",
       "      <td>China</td>\n",
       "      <td>NaN</td>\n",
       "      <td>NaN</td>\n",
       "      <td>1998</td>\n",
       "      <td>1998</td>\n",
       "      <td>Xu et al. (2012)</td>\n",
       "    </tr>\n",
       "    <tr>\n",
       "      <th>61523</th>\n",
       "      <td>Cassava mosaic disease</td>\n",
       "      <td>Cassava mosaic disease</td>\n",
       "      <td>NaN</td>\n",
       "      <td>NaN</td>\n",
       "      <td>NaN</td>\n",
       "      <td>NaN</td>\n",
       "      <td>NaN</td>\n",
       "      <td>Cassava mosaic disease</td>\n",
       "      <td>Viruses</td>\n",
       "      <td>Kenya</td>\n",
       "      <td>NaN</td>\n",
       "      <td>NaN</td>\n",
       "      <td>1994</td>\n",
       "      <td>1994</td>\n",
       "      <td>CABI ISC</td>\n",
       "    </tr>\n",
       "    <tr>\n",
       "      <th>61524</th>\n",
       "      <td>Cucumber green mottle mosaic virus</td>\n",
       "      <td>Cucumber green mottle mosaic virus (CGMMV)</td>\n",
       "      <td>NaN</td>\n",
       "      <td>NaN</td>\n",
       "      <td>NaN</td>\n",
       "      <td>NaN</td>\n",
       "      <td>NaN</td>\n",
       "      <td>Cucumber green mottle mosaic virus (CGMMV)</td>\n",
       "      <td>Viruses</td>\n",
       "      <td>China</td>\n",
       "      <td>NaN</td>\n",
       "      <td>NaN</td>\n",
       "      <td>2005</td>\n",
       "      <td>2005</td>\n",
       "      <td>Xu et al. (2012)</td>\n",
       "    </tr>\n",
       "    <tr>\n",
       "      <th>61525</th>\n",
       "      <td>East Asian Passiflora virus</td>\n",
       "      <td>East Asian Passiflora virus</td>\n",
       "      <td>Potyviridae</td>\n",
       "      <td>Patatavirales</td>\n",
       "      <td>Stelpaviricetes</td>\n",
       "      <td>Pisuviricota</td>\n",
       "      <td>GBIF</td>\n",
       "      <td>East Asian Passiflora virus</td>\n",
       "      <td>Viruses</td>\n",
       "      <td>Taiwan</td>\n",
       "      <td>yes</td>\n",
       "      <td>NaN</td>\n",
       "      <td>1980</td>\n",
       "      <td>1980</td>\n",
       "      <td>CABI ISC</td>\n",
       "    </tr>\n",
       "  </tbody>\n",
       "</table>\n",
       "</div>"
      ],
      "text/plain": [
       "                                TaxonName  \\\n",
       "61521     Beet necrotic yellow vein virus   \n",
       "61522             Broad bean strain virus   \n",
       "61523              Cassava mosaic disease   \n",
       "61524  Cucumber green mottle mosaic virus   \n",
       "61525         East Asian Passiflora virus   \n",
       "\n",
       "                                   scientificName       Family          Order  \\\n",
       "61521     Beet necrotic yellow vein virus (BNYVV)          NaN            NaN   \n",
       "61522              Broad bean strain virus (BBSV)          NaN            NaN   \n",
       "61523                      Cassava mosaic disease          NaN            NaN   \n",
       "61524  Cucumber green mottle mosaic virus (CGMMV)          NaN            NaN   \n",
       "61525                 East Asian Passiflora virus  Potyviridae  Patatavirales   \n",
       "\n",
       "                 Class        Phylum Taxonomy  \\\n",
       "61521              NaN           NaN      NaN   \n",
       "61522              NaN           NaN      NaN   \n",
       "61523              NaN           NaN      NaN   \n",
       "61524              NaN           NaN      NaN   \n",
       "61525  Stelpaviricetes  Pisuviricota     GBIF   \n",
       "\n",
       "                                         OrigName LifeForm  Region Island  \\\n",
       "61521     Beet necrotic yellow vein virus (BNYVV)  Viruses   China    NaN   \n",
       "61522              Broad bean strain virus (BBSV)  Viruses   China    NaN   \n",
       "61523                      Cassava mosaic disease  Viruses   Kenya    NaN   \n",
       "61524  Cucumber green mottle mosaic virus (CGMMV)  Viruses   China    NaN   \n",
       "61525                 East Asian Passiflora virus  Viruses  Taiwan    yes   \n",
       "\n",
       "      PresentStatus  FirstRecord FirstRecord_orig            Source  \n",
       "61521           NaN         1978             1978  Xu et al. (2012)  \n",
       "61522           NaN         1998             1998  Xu et al. (2012)  \n",
       "61523           NaN         1994             1994          CABI ISC  \n",
       "61524           NaN         2005             2005  Xu et al. (2012)  \n",
       "61525           NaN         1980             1980          CABI ISC  "
      ]
     },
     "execution_count": 4,
     "metadata": {},
     "output_type": "execute_result"
    }
   ],
   "source": [
    "df.info(show_counts=True)\n",
    "df.head()"
   ]
  },
  {
   "cell_type": "code",
   "execution_count": 5,
   "id": "ee68da7d",
   "metadata": {},
   "outputs": [
    {
     "name": "stdout",
     "output_type": "stream",
     "text": [
      "There are 1 families and 31 regions\n",
      "There are 18 species.\n",
      "Viruses[18], "
     ]
    }
   ],
   "source": [
    "family = df['LifeForm'].unique()\n",
    "region = df['Region'].unique()\n",
    "\n",
    "print(f'There are {len(family)} families and {len(region)} regions')\n",
    "species = df['TaxonName'].unique()\n",
    "\n",
    "print(f'There are {len(species)} species.')\n",
    "for p in family:\n",
    "    df_s = df[df['LifeForm'] == p]\n",
    "    animals = df_s['TaxonName'].unique()\n",
    "    print(f'{p}[{len(animals)}]', end=', ')\n"
   ]
  },
  {
   "cell_type": "code",
   "execution_count": 7,
   "id": "aa6ca04b",
   "metadata": {},
   "outputs": [
    {
     "name": "stdout",
     "output_type": "stream",
     "text": [
      "The species Beet necrotic yellow vein virus has 1 iteractions\n",
      "The species Broad bean strain virus has 1 iteractions\n",
      "The species Cassava mosaic disease has 1 iteractions\n",
      "The species Cucumber green mottle mosaic virus has 1 iteractions\n",
      "The species East Asian Passiflora virus has 1 iteractions\n",
      "The species genus/Begomovirus, species/Tomato yellow leaf curl virus pv. Israel has 1 iteractions\n",
      "The species genus/Potyvirus, species/Papaya ringspot virus biotype P has 1 iteractions\n",
      "The species genus/Tospovirus, species/Tomato spotted wilt virus has 1 iteractions\n",
      "The species Impatiens necrotic spot virus has 1 iteractions\n",
      "The species Infectious hematopoietic necrosis virus has 1 iteractions\n",
      "The species Infectious pancreatic necrosis virus has 1 iteractions\n",
      "The species Lymphocystis disease virus has 1 iteractions\n",
      "The species Plum pox virus has 26 iteractions\n",
      "The species Poplar mosaic virus has 1 iteractions\n",
      "The species Prunus necrotic ringspot ilarvirus has 1 iteractions\n",
      "The species Rhabdovirus carpio has 2 iteractions\n",
      "The species Taura syndrome virus has 1 iteractions\n",
      "The species Tomato ringspot virus has 1 iteractions\n"
     ]
    }
   ],
   "source": [
    "# Filter out irrelevant data\n",
    "spec_iter = np.zeros(len(species), dtype=int)\n",
    "\n",
    "for idx, s in enumerate(species):\n",
    "    df_s = df[df['TaxonName'] == s]\n",
    "    # n_iter = len(df_s)\n",
    "    spec_iter[idx] = len(df_s)\n",
    "    # print(f'The species {s} has {spec_iter[idx]} iteractions')\n",
    "    \n",
    "    # print(df_s)\n",
    "filter = spec_iter[0]\n",
    "\n"
   ]
  },
  {
   "cell_type": "code",
   "execution_count": 40,
   "id": "e6badf96",
   "metadata": {},
   "outputs": [
    {
     "name": "stdout",
     "output_type": "stream",
     "text": [
      "1\n"
     ]
    }
   ],
   "source": [
    "# select the species that have less than 3 iteractions\n",
    "idx = np.where(spec_iter < 3)\n",
    "# test = df\n",
    "\n",
    "# Filter the dataset: remove all rows belonging to species with less than 3 iteractions\n",
    "for s in species[idx]:\n",
    "    # print(s)  \n",
    "    df = df.drop(df[df['TaxonName'] == s].index)\n",
    "\n",
    "print(len(df['TaxonName'].unique()))"
   ]
  },
  {
   "cell_type": "code",
   "execution_count": 14,
   "id": "322ebbd3",
   "metadata": {},
   "outputs": [
    {
     "data": {
      "text/plain": [
       "(24, 18, 31)"
      ]
     },
     "execution_count": 14,
     "metadata": {},
     "output_type": "execute_result"
    }
   ],
   "source": [
    "# Buld matrix\n",
    "n_s = len(species)\n",
    "n_r = len(region)\n",
    "\n",
    "t_min = df['FirstRecord'].min()\n",
    "t_max = df['FirstRecord'].max()\n",
    "time = np.arange(t_min, t_max, 2)\n",
    "\n",
    "p = n_s + n_r\n",
    "M = np.zeros((len(time), n_s, n_r))\n",
    "# M = np.zeros((len(time), p, p)) # if full\n",
    "\n",
    "for i, t in enumerate(time):\n",
    "    df_now = df[(df['FirstRecord'] >= t) & (df['FirstRecord'] < t+1)]\n",
    "    for index, row in df_now.iterrows():\n",
    "        s = row['TaxonName']\n",
    "        r = row['Region']\n",
    "        # print(f'Species {s} invaded region {r} at time {t}')\n",
    "\n",
    "        s_idx = np.where(species == s)\n",
    "        r_idx = np.where(region == r)\n",
    "        M[i, s_idx, r_idx] = 1\n",
    "M.shape"
   ]
  },
  {
   "cell_type": "code",
   "execution_count": 45,
   "id": "24648349",
   "metadata": {},
   "outputs": [
    {
     "name": "stdout",
     "output_type": "stream",
     "text": [
      "There are in total 17.0 iteraction.\n",
      "Of which 11.0 are given by species n 12 Plum pox virus\n"
     ]
    }
   ],
   "source": [
    "print(f'There are in total {np.sum(M)} iteraction.')\n",
    "\n",
    "idx = np.array([5,  8,  9, 13, 17, 18, 20, 24, 25, 29, 30])\n",
    "idx = idx - 1\n",
    "most_relevant_spec = np.sum(M[:, 12, idx])\n",
    "print(f'Of which {most_relevant_spec} are given by species n 12 {species[12]}')"
   ]
  },
  {
   "cell_type": "code",
   "execution_count": 12,
   "id": "fe5346dd",
   "metadata": {},
   "outputs": [
    {
     "name": "stdout",
     "output_type": "stream",
     "text": [
      "18 31\n",
      "s = 18, r = 31\n",
      "(24, 558)\n"
     ]
    }
   ],
   "source": [
    "# Export data and then import it into R\n",
    "print(n_s, n_r)\n",
    "M = M.reshape(len(time), n_s*n_r)\n",
    "# M = M.reshape(len(time), (p)**2) # if full matix\n",
    "print(f's = {n_s}, r = {n_r}')\n",
    "print(M.shape)\n",
    "np.save('matrix.npy', M)"
   ]
  },
  {
   "cell_type": "code",
   "execution_count": 11,
   "id": "757d61bf",
   "metadata": {},
   "outputs": [],
   "source": [
    "# TODO we should use sparse matrices for the data\n",
    "\n",
    "import scipy.sparse\n",
    "\n",
    "rows = [2, 236, 246, 389, 1691]\n",
    "cols = [117, 3, 34, 2757, 74, 1635, 52]\n",
    "prod = [(x, y) for x in rows for y in cols] # combinations\n",
    "r = [x for (x, y) in prod] # x_coordinate\n",
    "c = [y for (x, y) in prod] # y_coordinate\n",
    "data = [1] * len(r)\n",
    "m = scipy.sparse.coo_matrix((data, (r, c)), shape=(100000, 40000))"
   ]
  }
 ],
 "metadata": {
  "kernelspec": {
   "display_name": "Python 3 (ipykernel)",
   "language": "python",
   "name": "python3"
  },
  "language_info": {
   "codemirror_mode": {
    "name": "ipython",
    "version": 3
   },
   "file_extension": ".py",
   "mimetype": "text/x-python",
   "name": "python",
   "nbconvert_exporter": "python",
   "pygments_lexer": "ipython3",
   "version": "3.9.12"
  }
 },
 "nbformat": 4,
 "nbformat_minor": 5
}
