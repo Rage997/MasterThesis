{
 "cells": [
  {
   "cell_type": "code",
   "execution_count": 10,
   "id": "c460e2bf",
   "metadata": {},
   "outputs": [],
   "source": [
    "import pandas as pd\n",
    "import numpy as np"
   ]
  },
  {
   "cell_type": "code",
   "execution_count": 11,
   "id": "7561e900",
   "metadata": {},
   "outputs": [
    {
     "name": "stdout",
     "output_type": "stream",
     "text": [
      "dict_keys(['ReadMe', 'GlobalAlienSpeciesFirstRecordDa', 'References'])\n",
      "<class 'pandas.core.frame.DataFrame'>\n",
      "RangeIndex: 61751 entries, 0 to 61750\n",
      "Data columns (total 15 columns):\n",
      " #   Column            Non-Null Count  Dtype \n",
      "---  ------            --------------  ----- \n",
      " 0   TaxonName         61751 non-null  object\n",
      " 1   scientificName    61751 non-null  object\n",
      " 2   Family            57925 non-null  object\n",
      " 3   Order             60709 non-null  object\n",
      " 4   Class             60664 non-null  object\n",
      " 5   Phylum            60793 non-null  object\n",
      " 6   Taxonomy          57045 non-null  object\n",
      " 7   OrigName          61751 non-null  object\n",
      " 8   LifeForm          61571 non-null  object\n",
      " 9   Region            61751 non-null  object\n",
      " 10  Island            17552 non-null  object\n",
      " 11  PresentStatus     33473 non-null  object\n",
      " 12  FirstRecord       61751 non-null  int64 \n",
      " 13  FirstRecord_orig  61751 non-null  object\n",
      " 14  Source            61751 non-null  object\n",
      "dtypes: int64(1), object(14)\n",
      "memory usage: 7.1+ MB\n"
     ]
    }
   ],
   "source": [
    "# SEE: https://zenodo.org/record/4632335#.YkGzOShBz4c\n",
    "filename = '../data/GlobalAlienSpeciesFirstRecordDatabase_v2.xlsx'\n",
    "\n",
    "df_orig = pd.read_excel(filename, sheet_name=None)\n",
    "# There are 3 sheets of the excel file\n",
    "print(df_orig.keys())\n",
    "df_orig = df_orig['GlobalAlienSpeciesFirstRecordDa']\n",
    "df_orig.info(show_counts=True)\n",
    "\n"
   ]
  },
  {
   "cell_type": "markdown",
   "id": "97ff99da",
   "metadata": {},
   "source": []
  },
  {
   "cell_type": "code",
   "execution_count": 12,
   "id": "1abc5230",
   "metadata": {},
   "outputs": [],
   "source": [
    "df = df_orig\n",
    "# Get the correct one\n",
    "df = df[(df['LifeForm'] != 'Insects') & (df['LifeForm'] != 'Vascular plants') & (df['LifeForm'] != 'Fishes') \\\n",
    "        & (df['LifeForm'] != 'Birds') & (df['LifeForm'] != 'Algae') \\\n",
    "        & (df['LifeForm'] != 'Invertebrates (excl. Arthropods, Molluscs)') \n",
    "        & (df['LifeForm'] != 'Molluscs') & (df['LifeForm'] != 'Crustaceans') \\\n",
    "        & (df['LifeForm'] != 'Fungi') & (df['LifeForm'] != 'Reptiles') \\\n",
    "        # & (df['LifeForm'] != 'Arthropods p.p. (Myriapods, Diplopods etc.)') & (df['LifeForm'] != 'Mammals') \\\n",
    "        # & (df['LifeForm'] != 'Amphibians') & (df['LifeForm'] != 'Bryophytes') \\\n",
    "        # & (df['LifeForm'] != 'Amphibians') & (df['LifeForm'] != 'nan') \\\n",
    "        & (df['LifeForm'] != 'Bryozoa') & (df['LifeForm'] != 'Spiders') \\\n",
    "        ]\n",
    "df = df[(df['FirstRecord'] > 1950) & (df['FirstRecord'] < 2010)]"
   ]
  },
  {
   "cell_type": "code",
   "execution_count": 13,
   "id": "d2d24318",
   "metadata": {},
   "outputs": [
    {
     "name": "stdout",
     "output_type": "stream",
     "text": [
      "<class 'pandas.core.frame.DataFrame'>\n",
      "Int64Index: 1171 entries, 1208 to 61750\n",
      "Data columns (total 15 columns):\n",
      " #   Column            Non-Null Count  Dtype \n",
      "---  ------            --------------  ----- \n",
      " 0   TaxonName         1171 non-null   object\n",
      " 1   scientificName    1171 non-null   object\n",
      " 2   Family            1060 non-null   object\n",
      " 3   Order             1043 non-null   object\n",
      " 4   Class             946 non-null    object\n",
      " 5   Phylum            1040 non-null   object\n",
      " 6   Taxonomy          1031 non-null   object\n",
      " 7   OrigName          1171 non-null   object\n",
      " 8   LifeForm          1023 non-null   object\n",
      " 9   Region            1171 non-null   object\n",
      " 10  Island            355 non-null    object\n",
      " 11  PresentStatus     592 non-null    object\n",
      " 12  FirstRecord       1171 non-null   int64 \n",
      " 13  FirstRecord_orig  1171 non-null   object\n",
      " 14  Source            1171 non-null   object\n",
      "dtypes: int64(1), object(14)\n",
      "memory usage: 146.4+ KB\n"
     ]
    },
    {
     "data": {
      "text/html": [
       "<div>\n",
       "<style scoped>\n",
       "    .dataframe tbody tr th:only-of-type {\n",
       "        vertical-align: middle;\n",
       "    }\n",
       "\n",
       "    .dataframe tbody tr th {\n",
       "        vertical-align: top;\n",
       "    }\n",
       "\n",
       "    .dataframe thead th {\n",
       "        text-align: right;\n",
       "    }\n",
       "</style>\n",
       "<table border=\"1\" class=\"dataframe\">\n",
       "  <thead>\n",
       "    <tr style=\"text-align: right;\">\n",
       "      <th></th>\n",
       "      <th>TaxonName</th>\n",
       "      <th>scientificName</th>\n",
       "      <th>Family</th>\n",
       "      <th>Order</th>\n",
       "      <th>Class</th>\n",
       "      <th>Phylum</th>\n",
       "      <th>Taxonomy</th>\n",
       "      <th>OrigName</th>\n",
       "      <th>LifeForm</th>\n",
       "      <th>Region</th>\n",
       "      <th>Island</th>\n",
       "      <th>PresentStatus</th>\n",
       "      <th>FirstRecord</th>\n",
       "      <th>FirstRecord_orig</th>\n",
       "      <th>Source</th>\n",
       "    </tr>\n",
       "  </thead>\n",
       "  <tbody>\n",
       "    <tr>\n",
       "      <th>1208</th>\n",
       "      <td>Ambystoma jeffersonianum</td>\n",
       "      <td>Ambystoma jeffersonianum</td>\n",
       "      <td>Ambystomatidae</td>\n",
       "      <td>Caudata</td>\n",
       "      <td>Amphibia</td>\n",
       "      <td>Chordata</td>\n",
       "      <td>GBIF</td>\n",
       "      <td>Ambystoma tremblayi</td>\n",
       "      <td>Amphibians</td>\n",
       "      <td>United States</td>\n",
       "      <td>NaN</td>\n",
       "      <td>NaN</td>\n",
       "      <td>1973</td>\n",
       "      <td>1970s</td>\n",
       "      <td>Kraus (2009)</td>\n",
       "    </tr>\n",
       "    <tr>\n",
       "      <th>1209</th>\n",
       "      <td>Ambystoma tigrinum</td>\n",
       "      <td>Ambystoma tigrinum (Green, 1825)</td>\n",
       "      <td>Ambystomatidae</td>\n",
       "      <td>Caudata</td>\n",
       "      <td>Amphibia</td>\n",
       "      <td>Chordata</td>\n",
       "      <td>GBIF</td>\n",
       "      <td>Ambystoma tigrinum</td>\n",
       "      <td>Amphibians</td>\n",
       "      <td>Germany</td>\n",
       "      <td>NaN</td>\n",
       "      <td>casual</td>\n",
       "      <td>1991</td>\n",
       "      <td>1991</td>\n",
       "      <td>DAISIE</td>\n",
       "    </tr>\n",
       "    <tr>\n",
       "      <th>1210</th>\n",
       "      <td>Ambystoma tigrinum</td>\n",
       "      <td>Ambystoma tigrinum (Green, 1825)</td>\n",
       "      <td>Ambystomatidae</td>\n",
       "      <td>Caudata</td>\n",
       "      <td>Amphibia</td>\n",
       "      <td>Chordata</td>\n",
       "      <td>GBIF</td>\n",
       "      <td>Ambystoma tigrinum</td>\n",
       "      <td>Amphibians</td>\n",
       "      <td>Spain</td>\n",
       "      <td>NaN</td>\n",
       "      <td>casual</td>\n",
       "      <td>2002</td>\n",
       "      <td>2002</td>\n",
       "      <td>DAISIE</td>\n",
       "    </tr>\n",
       "    <tr>\n",
       "      <th>1212</th>\n",
       "      <td>Anaxyrus americanus</td>\n",
       "      <td>Anaxyrus americanus</td>\n",
       "      <td>Bufonidae</td>\n",
       "      <td>Anura</td>\n",
       "      <td>Amphibia</td>\n",
       "      <td>Chordata</td>\n",
       "      <td>GBIF</td>\n",
       "      <td>Bufo americanus</td>\n",
       "      <td>Amphibians</td>\n",
       "      <td>Canada</td>\n",
       "      <td>NaN</td>\n",
       "      <td>NaN</td>\n",
       "      <td>1960</td>\n",
       "      <td>1960, 1963, 1964, 1965, 1966</td>\n",
       "      <td>Kraus (2009)</td>\n",
       "    </tr>\n",
       "    <tr>\n",
       "      <th>1213</th>\n",
       "      <td>Andrias davidianus</td>\n",
       "      <td>Andrias davidianus (Blanchard, 1871)</td>\n",
       "      <td>Cryptobranchidae</td>\n",
       "      <td>Caudata</td>\n",
       "      <td>Amphibia</td>\n",
       "      <td>Chordata</td>\n",
       "      <td>GBIF</td>\n",
       "      <td>Andrias davidianus</td>\n",
       "      <td>Amphibians</td>\n",
       "      <td>Japan</td>\n",
       "      <td>yes</td>\n",
       "      <td>alien</td>\n",
       "      <td>1972</td>\n",
       "      <td>1972 - 1972</td>\n",
       "      <td>GISD</td>\n",
       "    </tr>\n",
       "  </tbody>\n",
       "</table>\n",
       "</div>"
      ],
      "text/plain": [
       "                     TaxonName                        scientificName  \\\n",
       "1208  Ambystoma jeffersonianum              Ambystoma jeffersonianum   \n",
       "1209        Ambystoma tigrinum      Ambystoma tigrinum (Green, 1825)   \n",
       "1210        Ambystoma tigrinum      Ambystoma tigrinum (Green, 1825)   \n",
       "1212       Anaxyrus americanus                   Anaxyrus americanus   \n",
       "1213        Andrias davidianus  Andrias davidianus (Blanchard, 1871)   \n",
       "\n",
       "                Family    Order     Class    Phylum Taxonomy  \\\n",
       "1208    Ambystomatidae  Caudata  Amphibia  Chordata     GBIF   \n",
       "1209    Ambystomatidae  Caudata  Amphibia  Chordata     GBIF   \n",
       "1210    Ambystomatidae  Caudata  Amphibia  Chordata     GBIF   \n",
       "1212         Bufonidae    Anura  Amphibia  Chordata     GBIF   \n",
       "1213  Cryptobranchidae  Caudata  Amphibia  Chordata     GBIF   \n",
       "\n",
       "                 OrigName    LifeForm         Region Island PresentStatus  \\\n",
       "1208  Ambystoma tremblayi  Amphibians  United States    NaN           NaN   \n",
       "1209   Ambystoma tigrinum  Amphibians        Germany    NaN        casual   \n",
       "1210   Ambystoma tigrinum  Amphibians          Spain    NaN        casual   \n",
       "1212      Bufo americanus  Amphibians         Canada    NaN           NaN   \n",
       "1213   Andrias davidianus  Amphibians          Japan    yes         alien   \n",
       "\n",
       "      FirstRecord              FirstRecord_orig        Source  \n",
       "1208         1973                         1970s  Kraus (2009)  \n",
       "1209         1991                          1991        DAISIE  \n",
       "1210         2002                          2002        DAISIE  \n",
       "1212         1960  1960, 1963, 1964, 1965, 1966  Kraus (2009)  \n",
       "1213         1972                   1972 - 1972          GISD  "
      ]
     },
     "execution_count": 13,
     "metadata": {},
     "output_type": "execute_result"
    }
   ],
   "source": [
    "df.info(show_counts=True)\n",
    "df.head()"
   ]
  },
  {
   "cell_type": "code",
   "execution_count": 14,
   "id": "ee68da7d",
   "metadata": {},
   "outputs": [
    {
     "name": "stdout",
     "output_type": "stream",
     "text": [
      "There are 7 families and 159 regions\n",
      "There are 649 species.\n",
      "Amphibians[76], Arthropods p.p. (Myriapods, Diplopods etc.)[135], Bacteria and protozoans[27], Bryophytes[91], Mammals[167], Viruses[18], nan[0], "
     ]
    }
   ],
   "source": [
    "family = df['LifeForm'].unique()\n",
    "region = df['Region'].unique()\n",
    "\n",
    "print(f'There are {len(family)} families and {len(region)} regions')\n",
    "species = df['TaxonName'].unique()\n",
    "\n",
    "print(f'There are {len(species)} species.')\n",
    "for p in family:\n",
    "    df_s = df[df['LifeForm'] == p]\n",
    "    animals = df_s['TaxonName'].unique()\n",
    "    print(f'{p}[{len(animals)}]', end=', ')\n"
   ]
  },
  {
   "cell_type": "code",
   "execution_count": 15,
   "id": "aa6ca04b",
   "metadata": {},
   "outputs": [
    {
     "name": "stdout",
     "output_type": "stream",
     "text": [
      "Enumerating species interactions\n",
      "Enumerating region interactions\n"
     ]
    }
   ],
   "source": [
    "# TODO This is really really really slow. A better way to do it?\n",
    "# Filter out irrelevant data\n",
    "\n",
    "spec_iter = np.zeros(len(species), dtype=int)\n",
    "reg_iter = np.zeros(len(region), dtype=int)\n",
    "\n",
    "print('Enumerating species interactions')\n",
    "for idx, s in enumerate(species):\n",
    "    df_s = df[df['TaxonName'] == s]\n",
    "    # n_iter = len(df_s)\n",
    "    spec_iter[idx] = len(df_s)\n",
    "    # print(f'The species {s} has {spec_iter[idx]} iteractions')\n",
    "\n",
    "print('Enumerating region interactions')\n",
    "for idx, s in enumerate(region):\n",
    "    df_s = df[df['Region'] == s]\n",
    "    # n_iter = len(df_s)\n",
    "    reg_iter[idx] = len(df_s)\n",
    "    # print(f'The species {s} has {spec_iter[idx]} iteractions')"
   ]
  },
  {
   "cell_type": "code",
   "execution_count": 16,
   "id": "e6badf96",
   "metadata": {},
   "outputs": [
    {
     "name": "stdout",
     "output_type": "stream",
     "text": [
      "Removed 582 species\n",
      "Removed 132 region\n"
     ]
    }
   ],
   "source": [
    "# TODO This is really really really slow. A better way to do it?\n",
    "# select the species that have less than 3 iteractions\n",
    "remove_s_idx = np.where(spec_iter < 3)\n",
    "remove_r_idx = np.where(reg_iter < 10)\n",
    "# test = df\n",
    "\n",
    "# Filter the dataset: remove all rows belonging to species with less than 3 iteractions\n",
    "for s in species[remove_s_idx]:\n",
    "    # print(s)  \n",
    "    df = df.drop(df[df['TaxonName'] == s].index)\n",
    "\n",
    "# Filter the dataset: remove all rows belonging to region with less than 10 invasions\n",
    "for s in region[remove_r_idx]:\n",
    "    # print(s)  \n",
    "    df = df.drop(df[df['Region'] == s].index)\n",
    "\n",
    "species_removed = len(species) - len(df['TaxonName'].unique())\n",
    "print(f'Removed {species_removed} species')\n",
    "region_removed = len(region) - len(df['Region'].unique())\n",
    "print(f'Removed {region_removed} region')\n",
    "\n",
    "# Update region, species\n",
    "region = df['Region'].unique()\n",
    "species = df['TaxonName'].unique()\n"
   ]
  },
  {
   "cell_type": "code",
   "execution_count": 17,
   "id": "322ebbd3",
   "metadata": {},
   "outputs": [
    {
     "name": "stdout",
     "output_type": "stream",
     "text": [
      "1951 2007 56\n"
     ]
    },
    {
     "data": {
      "text/plain": [
       "(12, 67, 27)"
      ]
     },
     "execution_count": 17,
     "metadata": {},
     "output_type": "execute_result"
    }
   ],
   "source": [
    "# Buld matrix\n",
    "n_s = len(species)\n",
    "n_r = len(region)\n",
    "\n",
    "t_min = df['FirstRecord'].min()\n",
    "t_max = df['FirstRecord'].max()\n",
    "print(t_min, t_max, t_max-t_min)\n",
    "time_res = 5\n",
    "time = np.arange(t_min, t_max, time_res)\n",
    "\n",
    "p = n_s + n_r\n",
    "M = np.zeros((len(time), n_s, n_r))\n",
    "# M = np.zeros((len(time), p, p)) # if full\n",
    "\n",
    "for i, t in enumerate(time):\n",
    "    df_now = df[(df['FirstRecord'] >= t) & (df['FirstRecord'] < t+(time_res-1))]\n",
    "    for index, row in df_now.iterrows():\n",
    "        s = row['TaxonName']\n",
    "        r = row['Region']\n",
    "        # print(f'Species {s} invaded region {r} at time {t}')\n",
    "\n",
    "        s_idx = np.where(species == s)\n",
    "        r_idx = np.where(region == r)\n",
    "        M[i, s_idx, r_idx] = 1\n",
    "M.shape"
   ]
  },
  {
   "cell_type": "code",
   "execution_count": 18,
   "id": "fe5346dd",
   "metadata": {},
   "outputs": [
    {
     "name": "stdout",
     "output_type": "stream",
     "text": [
      "67 27\n",
      "s = 67, r = 27\n",
      "(12, 1809)\n"
     ]
    }
   ],
   "source": [
    "# Export data and then import it into R\n",
    "print(n_s, n_r)\n",
    "M = M.reshape(len(time), n_s*n_r)\n",
    "# M = M.reshape(len(time), (p)**2) # if full matix\n",
    "print(f's = {n_s}, r = {n_r}')\n",
    "print(M.shape)\n",
    "np.save('../data/matrix.npy', M)"
   ]
  },
  {
   "cell_type": "code",
   "execution_count": 16,
   "id": "309249f2",
   "metadata": {},
   "outputs": [
    {
     "name": "stdout",
     "output_type": "stream",
     "text": [
      "There are in total 2939.0 iteraction.\n"
     ]
    },
    {
     "ename": "IndexError",
     "evalue": "too many indices for array: array is 2-dimensional, but 3 were indexed",
     "output_type": "error",
     "traceback": [
      "\u001b[0;31m---------------------------------------------------------------------------\u001b[0m",
      "\u001b[0;31mIndexError\u001b[0m                                Traceback (most recent call last)",
      "Input \u001b[0;32mIn [16]\u001b[0m, in \u001b[0;36m<cell line: 7>\u001b[0;34m()\u001b[0m\n\u001b[1;32m      5\u001b[0m idx \u001b[38;5;241m=\u001b[39m np\u001b[38;5;241m.\u001b[39marray([\u001b[38;5;241m5\u001b[39m,  \u001b[38;5;241m8\u001b[39m,  \u001b[38;5;241m9\u001b[39m, \u001b[38;5;241m13\u001b[39m, \u001b[38;5;241m17\u001b[39m, \u001b[38;5;241m18\u001b[39m, \u001b[38;5;241m20\u001b[39m, \u001b[38;5;241m24\u001b[39m, \u001b[38;5;241m25\u001b[39m, \u001b[38;5;241m29\u001b[39m, \u001b[38;5;241m30\u001b[39m])\n\u001b[1;32m      6\u001b[0m idx \u001b[38;5;241m=\u001b[39m idx \u001b[38;5;241m-\u001b[39m \u001b[38;5;241m1\u001b[39m\n\u001b[0;32m----> 7\u001b[0m most_relevant_spec \u001b[38;5;241m=\u001b[39m np\u001b[38;5;241m.\u001b[39msum(\u001b[43mM\u001b[49m\u001b[43m[\u001b[49m\u001b[43m:\u001b[49m\u001b[43m,\u001b[49m\u001b[43m \u001b[49m\u001b[38;5;241;43m12\u001b[39;49m\u001b[43m,\u001b[49m\u001b[43m \u001b[49m\u001b[43midx\u001b[49m\u001b[43m]\u001b[49m)\n\u001b[1;32m      8\u001b[0m \u001b[38;5;28mprint\u001b[39m(\u001b[38;5;124mf\u001b[39m\u001b[38;5;124m'\u001b[39m\u001b[38;5;124mOf which \u001b[39m\u001b[38;5;132;01m{\u001b[39;00mmost_relevant_spec\u001b[38;5;132;01m}\u001b[39;00m\u001b[38;5;124m are given by species n 12 \u001b[39m\u001b[38;5;132;01m{\u001b[39;00mspecies[\u001b[38;5;241m12\u001b[39m]\u001b[38;5;132;01m}\u001b[39;00m\u001b[38;5;124m'\u001b[39m)\n",
      "\u001b[0;31mIndexError\u001b[0m: too many indices for array: array is 2-dimensional, but 3 were indexed"
     ]
    }
   ],
   "source": [
    "print(f'There are in total {np.sum(M)} iteraction.')\n",
    "\n",
    "# This was done for really specific case (only viruses)\n",
    "# We were studying the results of the R algorithm\n",
    "idx = np.array([5,  8,  9, 13, 17, 18, 20, 24, 25, 29, 30])\n",
    "idx = idx - 1\n",
    "most_relevant_spec = np.sum(M[:, 12, idx])\n",
    "print(f'Of which {most_relevant_spec} are given by species n 12 {species[12]}')"
   ]
  },
  {
   "cell_type": "code",
   "execution_count": 11,
   "id": "757d61bf",
   "metadata": {},
   "outputs": [],
   "source": [
    "# TODO we should use sparse matrices for the data\n",
    "\n",
    "import scipy.sparse\n",
    "\n",
    "rows = [2, 236, 246, 389, 1691]\n",
    "cols = [117, 3, 34, 2757, 74, 1635, 52]\n",
    "prod = [(x, y) for x in rows for y in cols] # combinations\n",
    "r = [x for (x, y) in prod] # x_coordinate\n",
    "c = [y for (x, y) in prod] # y_coordinate\n",
    "data = [1] * len(r)\n",
    "m = scipy.sparse.coo_matrix((data, (r, c)), shape=(100000, 40000))"
   ]
  }
 ],
 "metadata": {
  "kernelspec": {
   "display_name": "Python 3 (ipykernel)",
   "language": "python",
   "name": "python3"
  },
  "language_info": {
   "codemirror_mode": {
    "name": "ipython",
    "version": 3
   },
   "file_extension": ".py",
   "mimetype": "text/x-python",
   "name": "python",
   "nbconvert_exporter": "python",
   "pygments_lexer": "ipython3",
   "version": "3.10.4"
  }
 },
 "nbformat": 4,
 "nbformat_minor": 5
}
