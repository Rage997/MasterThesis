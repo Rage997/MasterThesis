{
 "cells": [
  {
   "cell_type": "code",
   "execution_count": null,
   "metadata": {},
   "outputs": [],
   "source": [
    "import numpy as np\n",
    "import matplotlib.pyplot as plt"
   ]
  },
  {
   "cell_type": "code",
   "execution_count": null,
   "metadata": {},
   "outputs": [],
   "source": [
    "path = '../data/451_133/'\n",
    "X = np.load(path+'result.npy')\n",
    "print(X.shape)\n",
    "X = X.reshape(X.shape[0], 451+133, 2)\n",
    "print(X.shape)\n"
   ]
  },
  {
   "cell_type": "code",
   "execution_count": null,
   "metadata": {},
   "outputs": [],
   "source": [
    "# fig = plt.figure()\n",
    "X0 = X[0,:]\n",
    "print(X0.shape)\n"
   ]
  },
  {
   "cell_type": "code",
   "execution_count": null,
   "metadata": {},
   "outputs": [],
   "source": [
    "X0 = X[16]\n",
    "curr = X0[0:10]\n",
    "\n",
    "%matplotlib widget\n",
    "plt.scatter(curr[:,0], curr[:, 1])\n",
    "plt.show('test.png')"
   ]
  },
  {
   "cell_type": "code",
   "execution_count": null,
   "metadata": {},
   "outputs": [],
   "source": [
    "# Make a movie out of this\n",
    "import matplotlib.animation as animation\n",
    "%matplotlib widget\n",
    "\n",
    "fig = plt.figure()\n",
    "\n",
    "imgs = []\n",
    "for t in range(X.shape[0]):\n",
    "    X_curr = X[t]\n",
    "    im = plt.scatter(X_curr[:,0], X_curr[:, 1], c='blue')\n",
    "    imgs.append([im])\n",
    "\n",
    "ani = animation.ArtistAnimation(fig, imgs, interval=500, blit=True,\n",
    "                                repeat_delay=1000)\n",
    "ani.save(path+'dynamic_evolution.mp4')\n",
    "\n",
    "# plt.show()"
   ]
  },
  {
   "cell_type": "code",
   "execution_count": null,
   "metadata": {},
   "outputs": [],
   "source": [
    "# TODO identify the nodes. Which node is which?"
   ]
  }
 ],
 "metadata": {
  "interpreter": {
   "hash": "5e2266b0a384f854de292bacfbadd0f527e9e36cc537c478c59246c9870de2c7"
  },
  "kernelspec": {
   "display_name": "Python 3.10.4 ('thesis')",
   "language": "python",
   "name": "python3"
  },
  "language_info": {
   "codemirror_mode": {
    "name": "ipython",
    "version": 3
   },
   "file_extension": ".py",
   "mimetype": "text/x-python",
   "name": "python",
   "nbconvert_exporter": "python",
   "pygments_lexer": "ipython3",
   "version": "3.10.4"
  },
  "orig_nbformat": 4
 },
 "nbformat": 4,
 "nbformat_minor": 2
}
