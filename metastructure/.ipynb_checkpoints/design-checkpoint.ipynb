{
 "cells": [
  {
   "cell_type": "code",
   "execution_count": 1,
   "id": "d0285480-5a87-47db-a5c7-ee67262e044f",
   "metadata": {},
   "outputs": [
    {
     "data": {
      "text/plain": [
       "'Code to generate mesh to test viscosity metamaterial. To run first:\\n1. Activate enviroment: coda activate jcq22\\n2. Run notebook: jupyter lab'"
      ]
     },
     "execution_count": 1,
     "metadata": {},
     "output_type": "execute_result"
    }
   ],
   "source": [
    "'''Code to generate mesh to test viscosity metamaterial. To run first:\n",
    "1. Activate enviroment: coda activate jcq22\n",
    "2. Run notebook: jupyter lab'''"
   ]
  },
  {
   "cell_type": "code",
   "execution_count": 2,
   "id": "5e51336c-d9f4-45b5-96b9-718156f50b16",
   "metadata": {},
   "outputs": [
    {
     "name": "stdout",
     "output_type": "stream",
     "text": [
      "Overwriting auto display for cadquery Workplane and Shape\n"
     ]
    }
   ],
   "source": [
    "from jupyter_cadquery import set_defaults, set_sidecar\n",
    "# from jupyter_cadquery.cadquery import show\n",
    "import cadquery as cq\n",
    "# from jupyter_cadquery.viewer.client import show, show_object\n",
    "from jupyter_cadquery.cadquery import (PartGroup, Part, Edges, Faces, Vertices, show)\n",
    "# from jupyter_cadquery import set_sidecar, set_defaults"
   ]
  },
  {
   "cell_type": "code",
   "execution_count": 8,
   "id": "04fcc07e-bfd8-421e-b99e-1dc798417182",
   "metadata": {},
   "outputs": [
    {
     "name": "stdout",
     "output_type": "stream",
     "text": [
      "Done, using side car 'Cadquery'\n"
     ]
    },
    {
     "data": {
      "text/plain": [
       "<jupyter_cadquery.cad_display.CadqueryDisplay at 0x7f5a1b6c3bb0>"
      ]
     },
     "execution_count": 8,
     "metadata": {},
     "output_type": "execute_result"
    }
   ],
   "source": [
    "# Model 1: Poisson structure\n",
    "\n",
    "box_size = 1\n",
    "steepness = .5\n",
    "\n",
    "def poisson():\n",
    "    r = cq.Workplane(\"XY\")\n",
    "    # Make main component\n",
    "    result = (r \\\n",
    "              .line(0, box_size)\n",
    "              .line(-box_size,0)\n",
    "              .line(0, -steepness)\n",
    "              .close()\n",
    "              .extrude(box_size)\n",
    "             )\n",
    "    \n",
    "    result = result.mirror(result.faces(\"-X\"), union=True)\n",
    "    # Mirror again to complete structure\n",
    "    result = result.mirror(mirrorPlane='XZ', union=True)\n",
    "#     result = result.mirror(mirrorPlane='YZ', union=True)  \n",
    "    return result\n",
    "\n",
    "r = cq.Workplane(\"XY\")\n",
    "\n",
    "result = r.union(poisson())\n",
    "cq.Workplane(\"XY\").transformed(rotate=(0, 45, 0)).union(poisson())\n",
    "\n",
    "show(result)"
   ]
  },
  {
   "cell_type": "code",
   "execution_count": 15,
   "id": "a9f0b3a3-ccc7-4f81-bf84-237ac7422d34",
   "metadata": {},
   "outputs": [
    {
     "name": "stdout",
     "output_type": "stream",
     "text": [
      "Done, using side car 'Cadquery'\n"
     ]
    },
    {
     "data": {
      "text/plain": [
       "<jupyter_cadquery.cad_display.CadqueryDisplay at 0x7f5a1b6c3bb0>"
      ]
     },
     "execution_count": 15,
     "metadata": {},
     "output_type": "execute_result"
    }
   ],
   "source": [
    "# Model 2\n",
    "r = cq.Workplane(\"XY\")\n",
    "\n",
    "# Put a shape in the middle and rotate by 45\n",
    "internal = cq.Workplane('XY').sphere(2)\n",
    "external = cq.Workplane(\"XY\").box(5, 5, 5)\n",
    "\n",
    "# c = cq.Compound([internal, external])\n",
    "r = external.cut(internal, clean=True)\n",
    "\n",
    "a1 = PartGroup(\n",
    "    [\n",
    "        Part(internal, \"red box\",   \"#d7191c\", show_edges=True),\n",
    "        Part(external, \"green box\", \"#abdda4\", show_edges=False),\n",
    "#         Part(r, \"blue box\",  \"#2b83ba\", show_faces=True),\n",
    "    ],\n",
    "    \"example 1\"\n",
    ")\n",
    "\n",
    "show(a1)"
   ]
  },
  {
   "cell_type": "code",
   "execution_count": 10,
   "id": "91a76a49-45d5-4701-baa1-42336b7f2fc1",
   "metadata": {},
   "outputs": [
    {
     "data": {
      "application/vnd.jupyter.widget-view+json": {
       "model_id": "70c9ab4af5e34568b2cd27e1edb971b7",
       "version_major": 2,
       "version_minor": 0
      },
      "text/plain": [
       "HBox(children=(VBox(children=(HBox(children=(Checkbox(value=False, description='Axes', indent=False, _dom_clas…"
      ]
     },
     "metadata": {},
     "output_type": "display_data"
    },
    {
     "data": {
      "text/plain": [
       "<jupyter_cadquery.cad_display.CadqueryDisplay at 0x7efeadad7e50>"
      ]
     },
     "execution_count": 10,
     "metadata": {},
     "output_type": "execute_result"
    }
   ],
   "source": [
    "# Model 3: Poisson structure\n",
    "\n",
    "box_size = 1\n",
    "steepness = .5\n",
    "height = box_size/2\n",
    "\n",
    "r = cq.Workplane().rect(box_size, box_size).workplane(offset=height)\\\n",
    "    .rect(box_size/2, box_size/2).loft().faces(\">Z\").wires()\\\n",
    "    .toPending().workplane(offset=height).rect(box_size, box_size).loft()\n",
    "r = r.shell(-0.02)\n",
    "\n",
    "# Make holes\n",
    "r = r.faces(\">Z\").workplane().hole(0.1)\n",
    "show(r)\n",
    "\n",
    "\n",
    "# external = cq.Workplane(\"XY\").workplane(offset=height).box(box_size, box_size, box_size)\n",
    "\n",
    "# group = PartGroup(\n",
    "#             [Part(r, 'red box', \"#d7191c\", show_edges=True),\n",
    "#             Part(external, \"green box\", \"#abdda4\", show_edges=False)\n",
    "#             ]\n",
    "# )\n",
    "\n",
    "# show(group)\n",
    "\n",
    "# cq.exporters.export(r, \"../data/meta.stl\")"
   ]
  },
  {
   "cell_type": "code",
   "execution_count": 10,
   "id": "e1421f3f",
   "metadata": {},
   "outputs": [
    {
     "data": {
      "application/vnd.jupyter.widget-view+json": {
       "model_id": "937c65bed7f440c8bf169557e426b58d",
       "version_major": 2,
       "version_minor": 0
      },
      "text/plain": [
       "HBox(children=(VBox(children=(HBox(children=(Checkbox(value=False, description='Axes', indent=False, _dom_clas…"
      ]
     },
     "metadata": {},
     "output_type": "display_data"
    },
    {
     "data": {
      "text/html": [
       "<style>\n",
       ".scroll-area {\n",
       "    overflow: scroll !important;\n",
       "    border: unset !important;\n",
       "}\n",
       "\n",
       ".mac-scrollbar::-webkit-scrollbar {\n",
       "    width: 5px !important;\n",
       "    height: 5px !important;\n",
       "}\n",
       "\n",
       ".mac-scrollbar::-webkit-scrollbar-track {\n",
       "    background-color: transparent !important;\n",
       "}\n",
       "\n",
       ".mac-scrollbar .widget-html-content {\n",
       "    overflow-x: visible;\n",
       "    overflow-y: visible;\n",
       "}\n",
       "\n",
       ".tab-content-no-padding .widget-tab-contents {\n",
       "    overflow-x: visible !important;\n",
       "    overflow-y: visible !important;\n",
       "    padding-bottom: 0px !important;\n",
       "}\n",
       "\n",
       ".view_renderer {\n",
       "    border: 1px solid var(--jp-border-color1);\n",
       "    margin-top: 3px;\n",
       "    margin-left: 2px;\n",
       "}\n",
       "\n",
       ".view_tree {\n",
       "    padding: 0px !important;\n",
       "}\n",
       "\n",
       ".view_axes {\n",
       "    width: 60px !important;\n",
       "    margin-left: 5px !important;\n",
       "}\n",
       "\n",
       ".view_zero {\n",
       "    width: 55px !important;\n",
       "}\n",
       "\n",
       ".view_grid {\n",
       "    width: 56px !important;\n",
       "}\n",
       "\n",
       ".view_ortho {\n",
       "    width: 64px !important;\n",
       "}\n",
       "\n",
       ".view_transparent {\n",
       "    width: 125px !important;\n",
       "}\n",
       "\n",
       ".view_black_edges {\n",
       "    width: 105px !important;\n",
       "}\n",
       "\n",
       ".view_button {\n",
       "    padding: 0px !important;\n",
       "}\n",
       "\n",
       ".view_button>img {\n",
       "    height: 28px;\n",
       "    width: 36px;\n",
       "}\n",
       "\n",
       ".node_entry_wrap {\n",
       "    white-space: pre;\n",
       "}\n",
       "\n",
       ".node_entry {\n",
       "    white-space: nowrap;\n",
       "    padding-top: 4px;\n",
       "}\n",
       "\n",
       ".t-caret {\n",
       "    cursor: pointer;\n",
       "    -webkit-user-select: none;\n",
       "    /* Safari 3.1+ */\n",
       "    -moz-user-select: none;\n",
       "    /* Firefox 2+ */\n",
       "    -ms-user-select: none;\n",
       "    /* IE 10+ */\n",
       "    user-select: none;\n",
       "}\n",
       "\n",
       ".t-caret-down::before {\n",
       "    -ms-transform: rotate(90deg);\n",
       "    /* IE 9 */\n",
       "    -webkit-transform: rotate(90deg);\n",
       "    /* Safari */\n",
       "    transform: rotate(90deg);\n",
       "}\n",
       "\n",
       ".toplevel {\n",
       "    list-style-type: none;\n",
       "    padding-inline-start: 0px;\n",
       "}\n",
       "\n",
       ".nested {\n",
       "    display: none;\n",
       "    list-style-type: none;\n",
       "    padding-inline-start: 16px;\n",
       "}\n",
       "\n",
       ".active {\n",
       "    display: block;\n",
       "}\n",
       "\n",
       ".icon {\n",
       "    width: 28px !important;\n",
       "    height: 22px !important;\n",
       "    padding-right: 2px;\n",
       "    vertical-align: middle;\n",
       "}\n",
       "\n",
       ".indent {\n",
       "    margin-left: 12px;\n",
       "}\n",
       "\n",
       ".tree_label {\n",
       "    padding-left: 2px;\n",
       "    font-size: 14px;\n",
       "}\n",
       "\n",
       ".scroll_down {\n",
       "    display: flex;\n",
       "    flex-direction: column-reverse;\n",
       "}\n",
       "\n",
       ".small_table {\n",
       "    line-height: 14px;\n",
       "}\n",
       "\n",
       ".monospace select {\n",
       "    font-family: monospace;\n",
       "}\n",
       "\n",
       "        .t-caret::before {\n",
       "            content: u\"▶\";\n",
       "            font-size: 12px;\n",
       "            color: \"#080808\";\n",
       "            display: inline-block;\n",
       "            margin-right: 2px;\n",
       "        }\n",
       "\n",
       "        .mac-scrollbar::-webkit-scrollbar-thumb {\n",
       "            background-color: rgba(0, 0, 0, 0.2) !important;\n",
       "            border-radius: 100px !important;\n",
       "        }\n",
       "\n",
       "        .mac-scrollbar::-webkit-scrollbar-thumb:hover {\n",
       "            background: rgba(0, 0, 0, 0.4) !important;\n",
       "        }\n",
       "\n",
       "        .mac-scrollbar::-webkit-scrollbar-thumb:active {\n",
       "            background: #181818 !important;\n",
       "        }\n",
       "\n",
       "        .mac-scrollbar::-webkit-scrollbar-corner {\n",
       "            background: white;\n",
       "        }\n",
       "\n",
       "        .view_output {\n",
       "            border: 1px solid var(--jp-border-color1);\n",
       "            margin: 2px 2px 2px 2px !important;\n",
       "            padding-right: 1px !important;\n",
       "            background-color: white;\n",
       "        }\n",
       "    </style>"
      ],
      "text/plain": [
       "<IPython.core.display.HTML object>"
      ]
     },
     "metadata": {},
     "output_type": "display_data"
    }
   ],
   "source": [
    "# set_defaults(axes=False, grid=True, axes0=True, ortho=True, transparent=True)\n",
    "# set_sidecar(\"CadQuery\", init=True)"
   ]
  },
  {
   "cell_type": "code",
   "execution_count": 11,
   "id": "a1742ff1-1514-45be-986e-a86878fe9db3",
   "metadata": {},
   "outputs": [
    {
     "name": "stdout",
     "output_type": "stream",
     "text": [
      "Done, using side car 'Cadquery'\n"
     ]
    },
    {
     "data": {
      "text/plain": [
       "<jupyter_cadquery.cad_display.CadqueryDisplay at 0x7f5a1b6c3bb0>"
      ]
     },
     "execution_count": 11,
     "metadata": {},
     "output_type": "execute_result"
    }
   ],
   "source": [
    "# Model 4\n",
    "\n",
    "l = 5\n",
    "height = 5\n",
    "\n",
    "ruled = cq.Workplane().rect(l,l).workplane(offset=height).rect(l/2,l/2).workplane(offset=height).rect(l,l).loft(ruled=True)\n",
    "not_ruled = cq.Workplane().rect(l,l).workplane(offset=height).rect(l/2,l/2).workplane(offset=height).rect(l,l).loft().translate((10,0,0))\n",
    "\n",
    "show(not_ruled)"
   ]
  },
  {
   "cell_type": "code",
   "execution_count": 7,
   "id": "62ea9b41-7381-4a52-b5c5-25d91b283a79",
   "metadata": {},
   "outputs": [
    {
     "name": "stdout",
     "output_type": "stream",
     "text": [
      "Done, using side car 'Cadquery'\n"
     ]
    },
    {
     "data": {
      "text/plain": [
       "<jupyter_cadquery.cad_display.CadqueryDisplay at 0x7f5a1b6c3bb0>"
      ]
     },
     "execution_count": 7,
     "metadata": {},
     "output_type": "execute_result"
    }
   ],
   "source": [
    "\n",
    "\n",
    "import numpy as np\n",
    "\n",
    "a = 0\n",
    "b = 5\n",
    "n = 10\n",
    "\n",
    "x = np.linspace(a, b, n)\n",
    "y = np.linspace(a, b, n)\n",
    "\n",
    "r = cq.Workplane(\"front\")    \n",
    "\n",
    "points = []\n",
    "for i in x:\n",
    "    for j in y:\n",
    "        points.append( (i,j) )\n",
    "        \n",
    "r = r.pushPoints(points)  \n",
    "r = r.sphere(0.3)\n",
    "\n",
    "show(r)"
   ]
  },
  {
   "cell_type": "code",
   "execution_count": 10,
   "id": "ceb70dcf-5c5e-45ac-bac5-27b6486151e7",
   "metadata": {},
   "outputs": [
    {
     "ename": "AttributeError",
     "evalue": "'Workplane' object has no attribute 'poisson'",
     "output_type": "error",
     "traceback": [
      "\u001b[0;31m---------------------------------------------------------------------------\u001b[0m",
      "\u001b[0;31mAttributeError\u001b[0m                            Traceback (most recent call last)",
      "\u001b[0;32m/tmp/ipykernel_802640/734910496.py\u001b[0m in \u001b[0;36m<module>\u001b[0;34m\u001b[0m\n\u001b[1;32m      1\u001b[0m \u001b[0mr\u001b[0m \u001b[0;34m=\u001b[0m \u001b[0mcq\u001b[0m\u001b[0;34m.\u001b[0m\u001b[0mWorkplane\u001b[0m\u001b[0;34m(\u001b[0m\u001b[0;34m\"front\"\u001b[0m\u001b[0;34m)\u001b[0m\u001b[0;34m.\u001b[0m\u001b[0mcircle\u001b[0m\u001b[0;34m(\u001b[0m\u001b[0;36m2.0\u001b[0m\u001b[0;34m)\u001b[0m                           \u001b[0;31m# make base\u001b[0m\u001b[0;34m\u001b[0m\u001b[0;34m\u001b[0m\u001b[0m\n\u001b[1;32m      2\u001b[0m \u001b[0mr\u001b[0m \u001b[0;34m=\u001b[0m \u001b[0mr\u001b[0m\u001b[0;34m.\u001b[0m\u001b[0mpushPoints\u001b[0m\u001b[0;34m(\u001b[0m\u001b[0;34m[\u001b[0m\u001b[0;34m(\u001b[0m\u001b[0;36m1.5\u001b[0m\u001b[0;34m,\u001b[0m \u001b[0;36m0\u001b[0m\u001b[0;34m)\u001b[0m\u001b[0;34m,\u001b[0m \u001b[0;34m(\u001b[0m\u001b[0;36m0\u001b[0m\u001b[0;34m,\u001b[0m \u001b[0;36m1.5\u001b[0m\u001b[0;34m)\u001b[0m\u001b[0;34m,\u001b[0m \u001b[0;34m(\u001b[0m\u001b[0;34m-\u001b[0m\u001b[0;36m1.5\u001b[0m\u001b[0;34m,\u001b[0m \u001b[0;36m0\u001b[0m\u001b[0;34m)\u001b[0m\u001b[0;34m,\u001b[0m \u001b[0;34m(\u001b[0m\u001b[0;36m0\u001b[0m\u001b[0;34m,\u001b[0m \u001b[0;34m-\u001b[0m\u001b[0;36m1.5\u001b[0m\u001b[0;34m)\u001b[0m\u001b[0;34m]\u001b[0m\u001b[0;34m)\u001b[0m    \u001b[0;31m# now four points are on the stack\u001b[0m\u001b[0;34m\u001b[0m\u001b[0;34m\u001b[0m\u001b[0m\n\u001b[0;32m----> 3\u001b[0;31m \u001b[0mr\u001b[0m \u001b[0;34m=\u001b[0m \u001b[0mr\u001b[0m\u001b[0;34m.\u001b[0m\u001b[0mpoisson\u001b[0m\u001b[0;34m(\u001b[0m\u001b[0;34m)\u001b[0m\u001b[0;34m\u001b[0m\u001b[0;34m\u001b[0m\u001b[0m\n\u001b[0m\u001b[1;32m      4\u001b[0m \u001b[0;34m\u001b[0m\u001b[0m\n\u001b[1;32m      5\u001b[0m \u001b[0mshow\u001b[0m\u001b[0;34m(\u001b[0m\u001b[0mr\u001b[0m\u001b[0;34m)\u001b[0m\u001b[0;34m\u001b[0m\u001b[0;34m\u001b[0m\u001b[0m\n",
      "\u001b[0;31mAttributeError\u001b[0m: 'Workplane' object has no attribute 'poisson'"
     ]
    }
   ],
   "source": [
    "r = cq.Workplane(\"front\").circle(2.0)                           # make base\n",
    "r = r.pushPoints([(1.5, 0), (0, 1.5), (-1.5, 0), (0, -1.5)])    # now four points are on the stack\n",
    "r = r.poisson()\n",
    "\n",
    "show(r)"
   ]
  }
 ],
 "metadata": {
  "kernelspec": {
   "display_name": "Python 3 (ipykernel)",
   "language": "python",
   "name": "python3"
  },
  "language_info": {
   "codemirror_mode": {
    "name": "ipython",
    "version": 3
   },
   "file_extension": ".py",
   "mimetype": "text/x-python",
   "name": "python",
   "nbconvert_exporter": "python",
   "pygments_lexer": "ipython3",
   "version": "3.8.12"
  }
 },
 "nbformat": 4,
 "nbformat_minor": 5
}
